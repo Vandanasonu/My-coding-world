{
 "cells": [
  {
   "cell_type": "code",
   "execution_count": null,
   "id": "9f397357",
   "metadata": {},
   "outputs": [],
   "source": [
    "import random\n",
    "computer_choice = random.randint(1,10)\n",
    "# print(computer_choice)\n",
    "attempt = 0\n",
    "\n",
    "while attempt<3:\n",
    "    user_guess = int(input('Guess the number: '))\n",
    "\n",
    "    if user_guess>computer_choice:\n",
    "        print('too high')\n",
    "    elif user_guess<computer_choice:\n",
    "        print('too low')\n",
    "    else:\n",
    "        print('correct guess')\n",
    "        break\n",
    "    attempt = attempt + 1\n",
    "\n",
    "if attempt == 3:\n",
    "    print(f'You lose, the correct guess was {computer_choice}')\n",
    "\n",
    "print('GAME OVER')"
   ]
  },
  {
   "cell_type": "code",
   "execution_count": null,
   "id": "8a2d38c0",
   "metadata": {},
   "outputs": [],
   "source": []
  },
  {
   "cell_type": "code",
   "execution_count": 5,
   "id": "e0f8ba3e",
   "metadata": {},
   "outputs": [
    {
     "ename": "AttributeError",
     "evalue": "'builtin_function_or_method' object has no attribute 'num'",
     "output_type": "error",
     "traceback": [
      "\u001b[1;31m---------------------------------------------------------------------------\u001b[0m",
      "\u001b[1;31mAttributeError\u001b[0m                            Traceback (most recent call last)",
      "\u001b[1;32m~\\AppData\\Local\\Temp/ipykernel_10372/1866264290.py\u001b[0m in \u001b[0;36m<module>\u001b[1;34m\u001b[0m\n\u001b[0;32m      1\u001b[0m \u001b[0mnum\u001b[0m \u001b[1;33m=\u001b[0m \u001b[1;33m[\u001b[0m\u001b[1;36m30\u001b[0m\u001b[1;33m,\u001b[0m\u001b[1;36m40\u001b[0m\u001b[1;33m,\u001b[0m\u001b[1;36m35\u001b[0m\u001b[1;33m]\u001b[0m\u001b[1;33m\u001b[0m\u001b[1;33m\u001b[0m\u001b[0m\n\u001b[1;32m----> 2\u001b[1;33m \u001b[0mmax\u001b[0m\u001b[1;33m.\u001b[0m\u001b[0mnum\u001b[0m\u001b[1;33m\u001b[0m\u001b[1;33m\u001b[0m\u001b[0m\n\u001b[0m\u001b[0;32m      3\u001b[0m \u001b[0mprint\u001b[0m\u001b[1;33m(\u001b[0m\u001b[0mnum\u001b[0m\u001b[1;33m)\u001b[0m\u001b[1;33m\u001b[0m\u001b[1;33m\u001b[0m\u001b[0m\n",
      "\u001b[1;31mAttributeError\u001b[0m: 'builtin_function_or_method' object has no attribute 'num'"
     ]
    }
   ],
   "source": [
    "num1 = 30\n",
    "num2 = 40\n",
    "num3 = 35\n",
    "max.num\n",
    "if num1==num2==num3\n"
   ]
  },
  {
   "cell_type": "code",
   "execution_count": 1,
   "id": "0f62241e",
   "metadata": {},
   "outputs": [
    {
     "ename": "NameError",
     "evalue": "name 'X' is not defined",
     "output_type": "error",
     "traceback": [
      "\u001b[1;31m---------------------------------------------------------------------------\u001b[0m",
      "\u001b[1;31mNameError\u001b[0m                                 Traceback (most recent call last)",
      "\u001b[1;32m~\\AppData\\Local\\Temp/ipykernel_1132/4098674466.py\u001b[0m in \u001b[0;36m<module>\u001b[1;34m\u001b[0m\n\u001b[0;32m      2\u001b[0m \u001b[0my\u001b[0m \u001b[1;33m=\u001b[0m \u001b[1;36m2.5\u001b[0m\u001b[1;33m\u001b[0m\u001b[1;33m\u001b[0m\u001b[0m\n\u001b[0;32m      3\u001b[0m \u001b[0mz\u001b[0m \u001b[1;33m=\u001b[0m \u001b[1;36m5\u001b[0m\u001b[1;33m\u001b[0m\u001b[1;33m\u001b[0m\u001b[0m\n\u001b[1;32m----> 4\u001b[1;33m \u001b[0mprint\u001b[0m\u001b[1;33m(\u001b[0m\u001b[0mX\u001b[0m \u001b[1;33m+\u001b[0m \u001b[0my\u001b[0m \u001b[1;33m/\u001b[0m \u001b[0mz\u001b[0m\u001b[1;33m)\u001b[0m\u001b[1;33m\u001b[0m\u001b[1;33m\u001b[0m\u001b[0m\n\u001b[0m",
      "\u001b[1;31mNameError\u001b[0m: name 'X' is not defined"
     ]
    }
   ],
   "source": [
    "x = 3\n",
    "y = 2.5\n",
    "z = 5\n",
    "print(X + y / z)"
   ]
  },
  {
   "cell_type": "code",
   "execution_count": 2,
   "id": "1962d6c4",
   "metadata": {},
   "outputs": [
    {
     "data": {
      "text/plain": [
       "-2"
      ]
     },
     "execution_count": 2,
     "metadata": {},
     "output_type": "execute_result"
    }
   ],
   "source": [
    "4 % (1 + 9)**2 - 60 // (7 + 2)"
   ]
  },
  {
   "cell_type": "code",
   "execution_count": 3,
   "id": "5fcd29bb",
   "metadata": {},
   "outputs": [
    {
     "data": {
      "text/plain": [
       "-2"
      ]
     },
     "execution_count": 3,
     "metadata": {},
     "output_type": "execute_result"
    }
   ],
   "source": [
    "4 % (1 + 9)**2 - 60 // (7 + 2)"
   ]
  },
  {
   "cell_type": "code",
   "execution_count": 4,
   "id": "535d169c",
   "metadata": {
    "scrolled": true
   },
   "outputs": [
    {
     "ename": "SyntaxError",
     "evalue": "invalid syntax (Temp/ipykernel_18360/459390503.py, line 2)",
     "output_type": "error",
     "traceback": [
      "\u001b[1;36m  File \u001b[1;32m\"C:\\Users\\vanda\\AppData\\Local\\Temp/ipykernel_18360/459390503.py\"\u001b[1;36m, line \u001b[1;32m2\u001b[0m\n\u001b[1;33m    print[word(7:12)]\u001b[0m\n\u001b[1;37m                ^\u001b[0m\n\u001b[1;31mSyntaxError\u001b[0m\u001b[1;31m:\u001b[0m invalid syntax\n"
     ]
    }
   ],
   "source": [
    "word= \"I love Python programming\"\n",
    "print[word(7:13)]"
   ]
  },
  {
   "cell_type": "code",
   "execution_count": 5,
   "id": "f56bf7fe",
   "metadata": {},
   "outputs": [
    {
     "name": "stdout",
     "output_type": "stream",
     "text": [
      "What flavour would you like chocolate\n",
      "What type of dessert would you like ice cream\n",
      "You have ordered chocolate-ice cream\n"
     ]
    }
   ],
   "source": [
    "#Let's try building a system that could ask for flavour, and the type of desert user wants\n",
    "flavour=input(\"What flavour would you like \")\n",
    "dessert_type=input(\"What type of dessert would you like \")\n",
    "print(\"You have ordered\", flavour+\"-\"+dessert_type)"
   ]
  },
  {
   "cell_type": "code",
   "execution_count": 11,
   "id": "a1d4dea1",
   "metadata": {},
   "outputs": [
    {
     "name": "stdout",
     "output_type": "stream",
     "text": [
      "Python\n"
     ]
    }
   ],
   "source": [
    "word = \"I love Python programming\"\n",
    "print (word[-18:-12])"
   ]
  },
  {
   "cell_type": "code",
   "execution_count": 1,
   "id": "17fa4de9",
   "metadata": {},
   "outputs": [
    {
     "name": "stdout",
     "output_type": "stream",
     "text": [
      "Python\n"
     ]
    }
   ],
   "source": [
    "word = \"I love Python programming\"\n",
    "print (word[7:13])"
   ]
  },
  {
   "cell_type": "code",
   "execution_count": 14,
   "id": "c67fd6c0",
   "metadata": {},
   "outputs": [
    {
     "data": {
      "text/plain": [
       "'e'"
      ]
     },
     "execution_count": 14,
     "metadata": {},
     "output_type": "execute_result"
    }
   ],
   "source": [
    "x = 'len'\n",
    "x[len(x * 2) - 5]"
   ]
  },
  {
   "cell_type": "code",
   "execution_count": 2,
   "id": "ab94d029",
   "metadata": {},
   "outputs": [
    {
     "data": {
      "text/plain": [
       "'e'"
      ]
     },
     "execution_count": 2,
     "metadata": {},
     "output_type": "execute_result"
    }
   ],
   "source": [
    "x = 'len'\n",
    "x[len(x * 2) - 5]"
   ]
  },
  {
   "cell_type": "code",
   "execution_count": null,
   "id": "a75f9db3",
   "metadata": {},
   "outputs": [],
   "source": []
  },
  {
   "cell_type": "code",
   "execution_count": null,
   "id": "47a1d267",
   "metadata": {},
   "outputs": [],
   "source": [
    "import ast,sys\n",
    "input_str = sys.stdin.read()\n",
    "#Type your code here\n",
    "messaage1 = \n",
    " print(message1, message2)"
   ]
  },
  {
   "cell_type": "code",
   "execution_count": 4,
   "id": "1ae816be",
   "metadata": {},
   "outputs": [
    {
     "name": "stdout",
     "output_type": "stream",
     "text": [
      "bandra,mumbai\n"
     ]
    }
   ],
   "source": [
    "input_str='bmaunmdbraai'\n",
    "message1=input_str[0::2]\n",
    "message2=input_str[1::2]\n",
    "print(message1+\",\"+message2)"
   ]
  },
  {
   "cell_type": "code",
   "execution_count": 15,
   "id": "fd731b3a",
   "metadata": {},
   "outputs": [
    {
     "name": "stdout",
     "output_type": "stream",
     "text": [
      "Help on class str in module builtins:\n",
      "\n",
      "class str(object)\n",
      " |  str(object='') -> str\n",
      " |  str(bytes_or_buffer[, encoding[, errors]]) -> str\n",
      " |  \n",
      " |  Create a new string object from the given object. If encoding or\n",
      " |  errors is specified, then the object must expose a data buffer\n",
      " |  that will be decoded using the given encoding and error handler.\n",
      " |  Otherwise, returns the result of object.__str__() (if defined)\n",
      " |  or repr(object).\n",
      " |  encoding defaults to sys.getdefaultencoding().\n",
      " |  errors defaults to 'strict'.\n",
      " |  \n",
      " |  Methods defined here:\n",
      " |  \n",
      " |  __add__(self, value, /)\n",
      " |      Return self+value.\n",
      " |  \n",
      " |  __contains__(self, key, /)\n",
      " |      Return key in self.\n",
      " |  \n",
      " |  __eq__(self, value, /)\n",
      " |      Return self==value.\n",
      " |  \n",
      " |  __format__(self, format_spec, /)\n",
      " |      Return a formatted version of the string as described by format_spec.\n",
      " |  \n",
      " |  __ge__(self, value, /)\n",
      " |      Return self>=value.\n",
      " |  \n",
      " |  __getattribute__(self, name, /)\n",
      " |      Return getattr(self, name).\n",
      " |  \n",
      " |  __getitem__(self, key, /)\n",
      " |      Return self[key].\n",
      " |  \n",
      " |  __getnewargs__(...)\n",
      " |  \n",
      " |  __gt__(self, value, /)\n",
      " |      Return self>value.\n",
      " |  \n",
      " |  __hash__(self, /)\n",
      " |      Return hash(self).\n",
      " |  \n",
      " |  __iter__(self, /)\n",
      " |      Implement iter(self).\n",
      " |  \n",
      " |  __le__(self, value, /)\n",
      " |      Return self<=value.\n",
      " |  \n",
      " |  __len__(self, /)\n",
      " |      Return len(self).\n",
      " |  \n",
      " |  __lt__(self, value, /)\n",
      " |      Return self<value.\n",
      " |  \n",
      " |  __mod__(self, value, /)\n",
      " |      Return self%value.\n",
      " |  \n",
      " |  __mul__(self, value, /)\n",
      " |      Return self*value.\n",
      " |  \n",
      " |  __ne__(self, value, /)\n",
      " |      Return self!=value.\n",
      " |  \n",
      " |  __repr__(self, /)\n",
      " |      Return repr(self).\n",
      " |  \n",
      " |  __rmod__(self, value, /)\n",
      " |      Return value%self.\n",
      " |  \n",
      " |  __rmul__(self, value, /)\n",
      " |      Return value*self.\n",
      " |  \n",
      " |  __sizeof__(self, /)\n",
      " |      Return the size of the string in memory, in bytes.\n",
      " |  \n",
      " |  __str__(self, /)\n",
      " |      Return str(self).\n",
      " |  \n",
      " |  capitalize(self, /)\n",
      " |      Return a capitalized version of the string.\n",
      " |      \n",
      " |      More specifically, make the first character have upper case and the rest lower\n",
      " |      case.\n",
      " |  \n",
      " |  casefold(self, /)\n",
      " |      Return a version of the string suitable for caseless comparisons.\n",
      " |  \n",
      " |  center(self, width, fillchar=' ', /)\n",
      " |      Return a centered string of length width.\n",
      " |      \n",
      " |      Padding is done using the specified fill character (default is a space).\n",
      " |  \n",
      " |  count(...)\n",
      " |      S.count(sub[, start[, end]]) -> int\n",
      " |      \n",
      " |      Return the number of non-overlapping occurrences of substring sub in\n",
      " |      string S[start:end].  Optional arguments start and end are\n",
      " |      interpreted as in slice notation.\n",
      " |  \n",
      " |  encode(self, /, encoding='utf-8', errors='strict')\n",
      " |      Encode the string using the codec registered for encoding.\n",
      " |      \n",
      " |      encoding\n",
      " |        The encoding in which to encode the string.\n",
      " |      errors\n",
      " |        The error handling scheme to use for encoding errors.\n",
      " |        The default is 'strict' meaning that encoding errors raise a\n",
      " |        UnicodeEncodeError.  Other possible values are 'ignore', 'replace' and\n",
      " |        'xmlcharrefreplace' as well as any other name registered with\n",
      " |        codecs.register_error that can handle UnicodeEncodeErrors.\n",
      " |  \n",
      " |  endswith(...)\n",
      " |      S.endswith(suffix[, start[, end]]) -> bool\n",
      " |      \n",
      " |      Return True if S ends with the specified suffix, False otherwise.\n",
      " |      With optional start, test S beginning at that position.\n",
      " |      With optional end, stop comparing S at that position.\n",
      " |      suffix can also be a tuple of strings to try.\n",
      " |  \n",
      " |  expandtabs(self, /, tabsize=8)\n",
      " |      Return a copy where all tab characters are expanded using spaces.\n",
      " |      \n",
      " |      If tabsize is not given, a tab size of 8 characters is assumed.\n",
      " |  \n",
      " |  find(...)\n",
      " |      S.find(sub[, start[, end]]) -> int\n",
      " |      \n",
      " |      Return the lowest index in S where substring sub is found,\n",
      " |      such that sub is contained within S[start:end].  Optional\n",
      " |      arguments start and end are interpreted as in slice notation.\n",
      " |      \n",
      " |      Return -1 on failure.\n",
      " |  \n",
      " |  format(...)\n",
      " |      S.format(*args, **kwargs) -> str\n",
      " |      \n",
      " |      Return a formatted version of S, using substitutions from args and kwargs.\n",
      " |      The substitutions are identified by braces ('{' and '}').\n",
      " |  \n",
      " |  format_map(...)\n",
      " |      S.format_map(mapping) -> str\n",
      " |      \n",
      " |      Return a formatted version of S, using substitutions from mapping.\n",
      " |      The substitutions are identified by braces ('{' and '}').\n",
      " |  \n",
      " |  index(...)\n",
      " |      S.index(sub[, start[, end]]) -> int\n",
      " |      \n",
      " |      Return the lowest index in S where substring sub is found,\n",
      " |      such that sub is contained within S[start:end].  Optional\n",
      " |      arguments start and end are interpreted as in slice notation.\n",
      " |      \n",
      " |      Raises ValueError when the substring is not found.\n",
      " |  \n",
      " |  isalnum(self, /)\n",
      " |      Return True if the string is an alpha-numeric string, False otherwise.\n",
      " |      \n",
      " |      A string is alpha-numeric if all characters in the string are alpha-numeric and\n",
      " |      there is at least one character in the string.\n",
      " |  \n",
      " |  isalpha(self, /)\n",
      " |      Return True if the string is an alphabetic string, False otherwise.\n",
      " |      \n",
      " |      A string is alphabetic if all characters in the string are alphabetic and there\n",
      " |      is at least one character in the string.\n",
      " |  \n",
      " |  isascii(self, /)\n",
      " |      Return True if all characters in the string are ASCII, False otherwise.\n",
      " |      \n",
      " |      ASCII characters have code points in the range U+0000-U+007F.\n",
      " |      Empty string is ASCII too.\n",
      " |  \n",
      " |  isdecimal(self, /)\n",
      " |      Return True if the string is a decimal string, False otherwise.\n",
      " |      \n",
      " |      A string is a decimal string if all characters in the string are decimal and\n",
      " |      there is at least one character in the string.\n",
      " |  \n",
      " |  isdigit(self, /)\n",
      " |      Return True if the string is a digit string, False otherwise.\n",
      " |      \n",
      " |      A string is a digit string if all characters in the string are digits and there\n",
      " |      is at least one character in the string.\n",
      " |  \n",
      " |  isidentifier(self, /)\n",
      " |      Return True if the string is a valid Python identifier, False otherwise.\n",
      " |      \n",
      " |      Call keyword.iskeyword(s) to test whether string s is a reserved identifier,\n",
      " |      such as \"def\" or \"class\".\n",
      " |  \n",
      " |  islower(self, /)\n",
      " |      Return True if the string is a lowercase string, False otherwise.\n",
      " |      \n",
      " |      A string is lowercase if all cased characters in the string are lowercase and\n",
      " |      there is at least one cased character in the string.\n",
      " |  \n",
      " |  isnumeric(self, /)\n",
      " |      Return True if the string is a numeric string, False otherwise.\n",
      " |      \n",
      " |      A string is numeric if all characters in the string are numeric and there is at\n",
      " |      least one character in the string.\n",
      " |  \n",
      " |  isprintable(self, /)\n",
      " |      Return True if the string is printable, False otherwise.\n",
      " |      \n",
      " |      A string is printable if all of its characters are considered printable in\n",
      " |      repr() or if it is empty.\n",
      " |  \n",
      " |  isspace(self, /)\n",
      " |      Return True if the string is a whitespace string, False otherwise.\n",
      " |      \n",
      " |      A string is whitespace if all characters in the string are whitespace and there\n",
      " |      is at least one character in the string.\n",
      " |  \n",
      " |  istitle(self, /)\n",
      " |      Return True if the string is a title-cased string, False otherwise.\n",
      " |      \n",
      " |      In a title-cased string, upper- and title-case characters may only\n",
      " |      follow uncased characters and lowercase characters only cased ones.\n",
      " |  \n",
      " |  isupper(self, /)\n",
      " |      Return True if the string is an uppercase string, False otherwise.\n",
      " |      \n",
      " |      A string is uppercase if all cased characters in the string are uppercase and\n",
      " |      there is at least one cased character in the string.\n",
      " |  \n",
      " |  join(self, iterable, /)\n",
      " |      Concatenate any number of strings.\n",
      " |      \n",
      " |      The string whose method is called is inserted in between each given string.\n",
      " |      The result is returned as a new string.\n",
      " |      \n",
      " |      Example: '.'.join(['ab', 'pq', 'rs']) -> 'ab.pq.rs'\n",
      " |  \n",
      " |  ljust(self, width, fillchar=' ', /)\n",
      " |      Return a left-justified string of length width.\n",
      " |      \n",
      " |      Padding is done using the specified fill character (default is a space).\n",
      " |  \n",
      " |  lower(self, /)\n",
      " |      Return a copy of the string converted to lowercase.\n",
      " |  \n",
      " |  lstrip(self, chars=None, /)\n",
      " |      Return a copy of the string with leading whitespace removed.\n",
      " |      \n",
      " |      If chars is given and not None, remove characters in chars instead.\n",
      " |  \n",
      " |  partition(self, sep, /)\n",
      " |      Partition the string into three parts using the given separator.\n",
      " |      \n",
      " |      This will search for the separator in the string.  If the separator is found,\n",
      " |      returns a 3-tuple containing the part before the separator, the separator\n",
      " |      itself, and the part after it.\n",
      " |      \n",
      " |      If the separator is not found, returns a 3-tuple containing the original string\n",
      " |      and two empty strings.\n",
      " |  \n",
      " |  removeprefix(self, prefix, /)\n",
      " |      Return a str with the given prefix string removed if present.\n",
      " |      \n",
      " |      If the string starts with the prefix string, return string[len(prefix):].\n",
      " |      Otherwise, return a copy of the original string.\n",
      " |  \n",
      " |  removesuffix(self, suffix, /)\n",
      " |      Return a str with the given suffix string removed if present.\n",
      " |      \n",
      " |      If the string ends with the suffix string and that suffix is not empty,\n",
      " |      return string[:-len(suffix)]. Otherwise, return a copy of the original\n",
      " |      string.\n",
      " |  \n",
      " |  replace(self, old, new, count=-1, /)\n",
      " |      Return a copy with all occurrences of substring old replaced by new.\n",
      " |      \n",
      " |        count\n",
      " |          Maximum number of occurrences to replace.\n",
      " |          -1 (the default value) means replace all occurrences.\n",
      " |      \n",
      " |      If the optional argument count is given, only the first count occurrences are\n",
      " |      replaced.\n",
      " |  \n",
      " |  rfind(...)\n",
      " |      S.rfind(sub[, start[, end]]) -> int\n",
      " |      \n",
      " |      Return the highest index in S where substring sub is found,\n",
      " |      such that sub is contained within S[start:end].  Optional\n",
      " |      arguments start and end are interpreted as in slice notation.\n",
      " |      \n",
      " |      Return -1 on failure.\n",
      " |  \n",
      " |  rindex(...)\n",
      " |      S.rindex(sub[, start[, end]]) -> int\n",
      " |      \n",
      " |      Return the highest index in S where substring sub is found,\n",
      " |      such that sub is contained within S[start:end].  Optional\n",
      " |      arguments start and end are interpreted as in slice notation.\n",
      " |      \n",
      " |      Raises ValueError when the substring is not found.\n",
      " |  \n",
      " |  rjust(self, width, fillchar=' ', /)\n",
      " |      Return a right-justified string of length width.\n",
      " |      \n",
      " |      Padding is done using the specified fill character (default is a space).\n",
      " |  \n",
      " |  rpartition(self, sep, /)\n",
      " |      Partition the string into three parts using the given separator.\n",
      " |      \n",
      " |      This will search for the separator in the string, starting at the end. If\n",
      " |      the separator is found, returns a 3-tuple containing the part before the\n",
      " |      separator, the separator itself, and the part after it.\n",
      " |      \n",
      " |      If the separator is not found, returns a 3-tuple containing two empty strings\n",
      " |      and the original string.\n",
      " |  \n",
      " |  rsplit(self, /, sep=None, maxsplit=-1)\n",
      " |      Return a list of the words in the string, using sep as the delimiter string.\n",
      " |      \n",
      " |        sep\n",
      " |          The delimiter according which to split the string.\n",
      " |          None (the default value) means split according to any whitespace,\n",
      " |          and discard empty strings from the result.\n",
      " |        maxsplit\n",
      " |          Maximum number of splits to do.\n",
      " |          -1 (the default value) means no limit.\n",
      " |      \n",
      " |      Splits are done starting at the end of the string and working to the front.\n",
      " |  \n",
      " |  rstrip(self, chars=None, /)\n",
      " |      Return a copy of the string with trailing whitespace removed.\n",
      " |      \n",
      " |      If chars is given and not None, remove characters in chars instead.\n",
      " |  \n",
      " |  split(self, /, sep=None, maxsplit=-1)\n",
      " |      Return a list of the words in the string, using sep as the delimiter string.\n",
      " |      \n",
      " |      sep\n",
      " |        The delimiter according which to split the string.\n",
      " |        None (the default value) means split according to any whitespace,\n",
      " |        and discard empty strings from the result.\n",
      " |      maxsplit\n",
      " |        Maximum number of splits to do.\n",
      " |        -1 (the default value) means no limit.\n",
      " |  \n",
      " |  splitlines(self, /, keepends=False)\n",
      " |      Return a list of the lines in the string, breaking at line boundaries.\n",
      " |      \n",
      " |      Line breaks are not included in the resulting list unless keepends is given and\n",
      " |      true.\n",
      " |  \n",
      " |  startswith(...)\n",
      " |      S.startswith(prefix[, start[, end]]) -> bool\n",
      " |      \n",
      " |      Return True if S starts with the specified prefix, False otherwise.\n",
      " |      With optional start, test S beginning at that position.\n",
      " |      With optional end, stop comparing S at that position.\n",
      " |      prefix can also be a tuple of strings to try.\n",
      " |  \n",
      " |  strip(self, chars=None, /)\n",
      " |      Return a copy of the string with leading and trailing whitespace removed.\n",
      " |      \n",
      " |      If chars is given and not None, remove characters in chars instead.\n",
      " |  \n",
      " |  swapcase(self, /)\n",
      " |      Convert uppercase characters to lowercase and lowercase characters to uppercase.\n",
      " |  \n",
      " |  title(self, /)\n",
      " |      Return a version of the string where each word is titlecased.\n",
      " |      \n",
      " |      More specifically, words start with uppercased characters and all remaining\n",
      " |      cased characters have lower case.\n",
      " |  \n",
      " |  translate(self, table, /)\n",
      " |      Replace each character in the string using the given translation table.\n",
      " |      \n",
      " |        table\n",
      " |          Translation table, which must be a mapping of Unicode ordinals to\n",
      " |          Unicode ordinals, strings, or None.\n",
      " |      \n",
      " |      The table must implement lookup/indexing via __getitem__, for instance a\n",
      " |      dictionary or list.  If this operation raises LookupError, the character is\n",
      " |      left untouched.  Characters mapped to None are deleted.\n",
      " |  \n",
      " |  upper(self, /)\n",
      " |      Return a copy of the string converted to uppercase.\n",
      " |  \n",
      " |  zfill(self, width, /)\n",
      " |      Pad a numeric string with zeros on the left, to fill a field of the given width.\n",
      " |      \n",
      " |      The string is never truncated.\n",
      " |  \n",
      " |  ----------------------------------------------------------------------\n",
      " |  Static methods defined here:\n",
      " |  \n",
      " |  __new__(*args, **kwargs) from builtins.type\n",
      " |      Create and return a new object.  See help(type) for accurate signature.\n",
      " |  \n",
      " |  maketrans(...)\n",
      " |      Return a translation table usable for str.translate().\n",
      " |      \n",
      " |      If there is only one argument, it must be a dictionary mapping Unicode\n",
      " |      ordinals (integers) or characters to Unicode ordinals, strings or None.\n",
      " |      Character keys will be then converted to ordinals.\n",
      " |      If there are two arguments, they must be strings of equal length, and\n",
      " |      in the resulting dictionary, each character in x will be mapped to the\n",
      " |      character at the same position in y. If there is a third argument, it\n",
      " |      must be a string, whose characters will be mapped to None in the result.\n",
      "\n"
     ]
    }
   ],
   "source": [
    "help(str)"
   ]
  },
  {
   "cell_type": "code",
   "execution_count": null,
   "id": "b5be9f64",
   "metadata": {},
   "outputs": [],
   "source": [
    "\n",
    "\n",
    "import ast,sys\n",
    "input_str = sys.stdin.read()\n",
    "message1 = input_str[0::2]\n",
    "message2 = input_str[1::2]\n",
    "print(message1.strip(\"#\")+\",\"+message2.strip(\"#\"))"
   ]
  },
  {
   "cell_type": "code",
   "execution_count": 1,
   "id": "1c4be241",
   "metadata": {},
   "outputs": [
    {
     "ename": "SyntaxError",
     "evalue": "invalid syntax (Temp/ipykernel_3272/3118077223.py, line 1)",
     "output_type": "error",
     "traceback": [
      "\u001b[1;36m  File \u001b[1;32m\"C:\\Users\\vanda\\AppData\\Local\\Temp/ipykernel_3272/3118077223.py\"\u001b[1;36m, line \u001b[1;32m1\u001b[0m\n\u001b[1;33m    list_1 = [2, 33, 222, 14, 25].\u001b[0m\n\u001b[1;37m                                  ^\u001b[0m\n\u001b[1;31mSyntaxError\u001b[0m\u001b[1;31m:\u001b[0m invalid syntax\n"
     ]
    }
   ],
   "source": [
    "list_1 = [2, 33, 222, 14, 25].\n",
    "print(list_1[-5])"
   ]
  },
  {
   "cell_type": "code",
   "execution_count": 10,
   "id": "de96a63e",
   "metadata": {},
   "outputs": [
    {
     "name": "stdout",
     "output_type": "stream",
     "text": [
      "['']\n"
     ]
    }
   ],
   "source": [
    "import ast,sys\n",
    "input_list = (sys.stdin.read()).split(',')\n",
    "# Write code to remove 'SPSS'a\n",
    "# Write code to append 'SPARK'\n",
    "print(input_list)"
   ]
  },
  {
   "cell_type": "code",
   "execution_count": 5,
   "id": "b84fc509",
   "metadata": {},
   "outputs": [
    {
     "ename": "SyntaxError",
     "evalue": "invalid syntax (Temp/ipykernel_18324/2524125341.py, line 3)",
     "output_type": "error",
     "traceback": [
      "\u001b[1;36m  File \u001b[1;32m\"C:\\Users\\vanda\\AppData\\Local\\Temp/ipykernel_18324/2524125341.py\"\u001b[1;36m, line \u001b[1;32m3\u001b[0m\n\u001b[1;33m    append.('SPARK')\u001b[0m\n\u001b[1;37m           ^\u001b[0m\n\u001b[1;31mSyntaxError\u001b[0m\u001b[1;31m:\u001b[0m invalid syntax\n"
     ]
    }
   ],
   "source": [
    "import ast,sys\n",
    "input_list = (sys.stdin.read()).split(',')\n",
    "append.('SPARK')\n",
    "print(input_list)"
   ]
  },
  {
   "cell_type": "code",
   "execution_count": 9,
   "id": "171ee797",
   "metadata": {},
   "outputs": [
    {
     "ename": "NameError",
     "evalue": "name 'append' is not defined",
     "output_type": "error",
     "traceback": [
      "\u001b[1;31m---------------------------------------------------------------------------\u001b[0m",
      "\u001b[1;31mNameError\u001b[0m                                 Traceback (most recent call last)",
      "\u001b[1;32m~\\AppData\\Local\\Temp/ipykernel_18324/347943407.py\u001b[0m in \u001b[0;36m<module>\u001b[1;34m\u001b[0m\n\u001b[1;32m----> 1\u001b[1;33m \u001b[0mhelp\u001b[0m\u001b[1;33m(\u001b[0m\u001b[0mappend\u001b[0m\u001b[1;33m)\u001b[0m\u001b[1;33m\u001b[0m\u001b[1;33m\u001b[0m\u001b[0m\n\u001b[0m",
      "\u001b[1;31mNameError\u001b[0m: name 'append' is not defined"
     ]
    }
   ],
   "source": [
    "help(append)\n"
   ]
  },
  {
   "cell_type": "code",
   "execution_count": 6,
   "id": "2cd7d144",
   "metadata": {
    "scrolled": true
   },
   "outputs": [
    {
     "name": "stdout",
     "output_type": "stream",
     "text": [
      "['SAS', 'R', 'PYTHON', 'SPARK']\n"
     ]
    }
   ],
   "source": [
    "import ast,sys\n",
    "input= (sys.stdin.read()).split(',')\n",
    "input= ['SAS', 'R', 'PYTHON', 'SPSS']\n",
    "input.remove('SPSS')\n",
    "input.append('SPARK')\n",
    "print(input)"
   ]
  },
  {
   "cell_type": "code",
   "execution_count": 10,
   "id": "860890f1",
   "metadata": {},
   "outputs": [
    {
     "name": "stdout",
     "output_type": "stream",
     "text": [
      "['SAS', 'R', 'PYTHON', 'SPARK']\n"
     ]
    }
   ],
   "source": [
    "import ast,sys\n",
    "input= ['SAS', 'R', 'PYTHON', 'SPSS']\n",
    "input.remove('SPSS')\n",
    "input.append('SPARK')\n",
    "print(input)"
   ]
  },
  {
   "cell_type": "code",
   "execution_count": 5,
   "id": "97465b5b",
   "metadata": {},
   "outputs": [
    {
     "ename": "SyntaxError",
     "evalue": "invalid syntax (Temp/ipykernel_14588/3658241633.py, line 1)",
     "output_type": "error",
     "traceback": [
      "\u001b[1;36m  File \u001b[1;32m\"C:\\Users\\vanda\\AppData\\Local\\Temp/ipykernel_14588/3658241633.py\"\u001b[1;36m, line \u001b[1;32m1\u001b[0m\n\u001b[1;33m    Convert a list ['Pythons syntax is easy to learn', 'Pythons syntax is very clear']\u001b[0m\n\u001b[1;37m            ^\u001b[0m\n\u001b[1;31mSyntaxError\u001b[0m\u001b[1;31m:\u001b[0m invalid syntax\n"
     ]
    }
   ],
   "source": [
    "Convert a list ['Pythons syntax is easy to learn', 'Pythons syntax is very clear']\n",
    "import ast,sys\n",
    "input_str = (sys.stdin.read()).split(',')\n",
    "\n",
    "#Type your answer here\n",
    "string_1 = ['Pythons syntax is easy to learn' & 'Pythons syntax is very clear']\n",
    "print(string_1)"
   ]
  },
  {
   "cell_type": "code",
   "execution_count": null,
   "id": "e330901f",
   "metadata": {},
   "outputs": [],
   "source": [
    "import ast,sys\n",
    "input_str = (sys.stdin.read()).split(',')\n",
    "\n",
    "string_1 = #Type your answer here\n",
    "print(string_1)"
   ]
  },
  {
   "cell_type": "code",
   "execution_count": 1,
   "id": "74c9d91a",
   "metadata": {},
   "outputs": [
    {
     "ename": "SyntaxError",
     "evalue": "invalid syntax (Temp/ipykernel_17028/77481791.py, line 1)",
     "output_type": "error",
     "traceback": [
      "\u001b[1;36m  File \u001b[1;32m\"C:\\Users\\vanda\\AppData\\Local\\Temp/ipykernel_17028/77481791.py\"\u001b[1;36m, line \u001b[1;32m1\u001b[0m\n\u001b[1;33m    str= (Pythons syntax is easy to learn & Pythons syntax is very clear)\u001b[0m\n\u001b[1;37m                  ^\u001b[0m\n\u001b[1;31mSyntaxError\u001b[0m\u001b[1;31m:\u001b[0m invalid syntax\n"
     ]
    }
   ],
   "source": [
    "str= (Pythons syntax is easy to learn & Pythons syntax is very clear)\n",
    "\n",
    "import ast,sys\n",
    "input_str = (sys.stdin.read()).split(',')\n",
    "\n",
    "#Type your answer here\n",
    "string_1 = (sys.stdin.read()).split('&')\n",
    "print(string_1)"
   ]
  },
  {
   "cell_type": "code",
   "execution_count": 10,
   "id": "4f6ebc8e",
   "metadata": {},
   "outputs": [
    {
     "name": "stdout",
     "output_type": "stream",
     "text": [
      "\n"
     ]
    }
   ],
   "source": [
    "list ['Pythons syntax is easy to learn', 'Pythons syntax is very clear']\n",
    "\n",
    "import ast,sys\n",
    "input_str = (sys.stdin.read()).split('&')\n",
    "\n",
    "string_1 = ' & '.join(input_str)\n",
    "print(string_1)\n"
   ]
  },
  {
   "cell_type": "code",
   "execution_count": 26,
   "id": "8deaa33d",
   "metadata": {
    "scrolled": true
   },
   "outputs": [
    {
     "ename": "TypeError",
     "evalue": "can only concatenate list (not \"str\") to list",
     "output_type": "error",
     "traceback": [
      "\u001b[1;31m---------------------------------------------------------------------------\u001b[0m",
      "\u001b[1;31mTypeError\u001b[0m                                 Traceback (most recent call last)",
      "\u001b[1;32m~\\AppData\\Local\\Temp/ipykernel_28140/183477891.py\u001b[0m in \u001b[0;36m<module>\u001b[1;34m\u001b[0m\n\u001b[0;32m      4\u001b[0m \u001b[0mmsg1\u001b[0m \u001b[1;33m=\u001b[0m \u001b[0mstring\u001b[0m\u001b[1;33m\u001b[0m\u001b[1;33m\u001b[0m\u001b[0m\n\u001b[0;32m      5\u001b[0m \u001b[0mmsg2\u001b[0m \u001b[1;33m=\u001b[0m \u001b[0mstring\u001b[0m\u001b[1;33m\u001b[0m\u001b[1;33m\u001b[0m\u001b[0m\n\u001b[1;32m----> 6\u001b[1;33m \u001b[0mprint\u001b[0m\u001b[1;33m(\u001b[0m\u001b[0mmsg1\u001b[0m\u001b[1;33m+\u001b[0m \u001b[1;34m\"&\"\u001b[0m \u001b[1;33m+\u001b[0m\u001b[0mmsg2\u001b[0m\u001b[1;33m.\u001b[0m\u001b[0mstrip\u001b[0m\u001b[1;33m(\u001b[0m\u001b[1;34m''\u001b[0m\u001b[1;33m)\u001b[0m\u001b[1;33m)\u001b[0m\u001b[1;33m\u001b[0m\u001b[1;33m\u001b[0m\u001b[0m\n\u001b[0m",
      "\u001b[1;31mTypeError\u001b[0m: can only concatenate list (not \"str\") to list"
     ]
    }
   ],
   "source": [
    "list = ['Pythons syntax is easy to learn','Pythons syntax is very clear']\n",
    "import ast,sys\n",
    "input_str = (sys.stdin.read()).split(',')\n",
    "msg1 = string\n",
    "msg2 = string\n",
    "print(msg1+ \"&\" +msg2.strip(''))\n"
   ]
  },
  {
   "cell_type": "code",
   "execution_count": 1,
   "id": "1d937eab",
   "metadata": {},
   "outputs": [
    {
     "name": "stdout",
     "output_type": "stream",
     "text": [
      "3.0\n"
     ]
    }
   ],
   "source": [
    "x = 3.5\n",
    "print(float(int(x)))"
   ]
  },
  {
   "cell_type": "code",
   "execution_count": 1,
   "id": "c8c1f495",
   "metadata": {},
   "outputs": [
    {
     "ename": "NameError",
     "evalue": "name 'Varma' is not defined",
     "output_type": "error",
     "traceback": [
      "\u001b[1;31m---------------------------------------------------------------------------\u001b[0m",
      "\u001b[1;31mNameError\u001b[0m                                 Traceback (most recent call last)",
      "\u001b[1;32m~\\AppData\\Local\\Temp/ipykernel_31556/3599454971.py\u001b[0m in \u001b[0;36m<module>\u001b[1;34m\u001b[0m\n\u001b[1;32m----> 1\u001b[1;33m \u001b[0mname\u001b[0m \u001b[1;33m=\u001b[0m \u001b[0mVarma\u001b[0m\u001b[1;33m\u001b[0m\u001b[1;33m\u001b[0m\u001b[0m\n\u001b[0m\u001b[0;32m      2\u001b[0m \u001b[1;33m\u001b[0m\u001b[0m\n\u001b[0;32m      3\u001b[0m \u001b[0mprint\u001b[0m\u001b[1;33m(\u001b[0m\u001b[0mtype\u001b[0m\u001b[1;33m(\u001b[0m\u001b[0mname\u001b[0m\u001b[1;33m)\u001b[0m\u001b[1;33m)\u001b[0m\u001b[1;33m\u001b[0m\u001b[1;33m\u001b[0m\u001b[0m\n",
      "\u001b[1;31mNameError\u001b[0m: name 'Varma' is not defined"
     ]
    }
   ],
   "source": [
    "name = Varma\n",
    "\n",
    "print(type(name))"
   ]
  },
  {
   "cell_type": "code",
   "execution_count": 2,
   "id": "eb10e4a0",
   "metadata": {},
   "outputs": [
    {
     "ename": "NameError",
     "evalue": "name 'X' is not defined",
     "output_type": "error",
     "traceback": [
      "\u001b[1;31m---------------------------------------------------------------------------\u001b[0m",
      "\u001b[1;31mNameError\u001b[0m                                 Traceback (most recent call last)",
      "\u001b[1;32m~\\AppData\\Local\\Temp/ipykernel_31556/4098674466.py\u001b[0m in \u001b[0;36m<module>\u001b[1;34m\u001b[0m\n\u001b[0;32m      2\u001b[0m \u001b[0my\u001b[0m \u001b[1;33m=\u001b[0m \u001b[1;36m2.5\u001b[0m\u001b[1;33m\u001b[0m\u001b[1;33m\u001b[0m\u001b[0m\n\u001b[0;32m      3\u001b[0m \u001b[0mz\u001b[0m \u001b[1;33m=\u001b[0m \u001b[1;36m5\u001b[0m\u001b[1;33m\u001b[0m\u001b[1;33m\u001b[0m\u001b[0m\n\u001b[1;32m----> 4\u001b[1;33m \u001b[0mprint\u001b[0m\u001b[1;33m(\u001b[0m\u001b[0mX\u001b[0m \u001b[1;33m+\u001b[0m \u001b[0my\u001b[0m \u001b[1;33m/\u001b[0m \u001b[0mz\u001b[0m\u001b[1;33m)\u001b[0m\u001b[1;33m\u001b[0m\u001b[1;33m\u001b[0m\u001b[0m\n\u001b[0m",
      "\u001b[1;31mNameError\u001b[0m: name 'X' is not defined"
     ]
    }
   ],
   "source": [
    "x = 3\n",
    "y = 2.5\n",
    "z = 5\n",
    "print(X + y / z)"
   ]
  },
  {
   "cell_type": "code",
   "execution_count": 3,
   "id": "da3234c3",
   "metadata": {},
   "outputs": [
    {
     "data": {
      "text/plain": [
       "-2"
      ]
     },
     "execution_count": 3,
     "metadata": {},
     "output_type": "execute_result"
    }
   ],
   "source": [
    "4 % (1 + 9)**2 - 60 // (7 + 2)"
   ]
  },
  {
   "cell_type": "code",
   "execution_count": null,
   "id": "cbb60505",
   "metadata": {},
   "outputs": [],
   "source": [
    "\"I love Python programming\"\n"
   ]
  },
  {
   "cell_type": "code",
   "execution_count": 2,
   "id": "8e3c8808",
   "metadata": {},
   "outputs": [
    {
     "name": "stdout",
     "output_type": "stream",
     "text": [
      "User name: myprogrammingisfun\n"
     ]
    }
   ],
   "source": [
    "email = \"myprogrammingisfun@gmail.com\"\n",
    "print(\"User name:\", email.split(\"@\")[0])"
   ]
  },
  {
   "cell_type": "code",
   "execution_count": 2,
   "id": "bee6a483",
   "metadata": {},
   "outputs": [
    {
     "ename": "NameError",
     "evalue": "name 'email_split' is not defined",
     "output_type": "error",
     "traceback": [
      "\u001b[1;31m---------------------------------------------------------------------------\u001b[0m",
      "\u001b[1;31mNameError\u001b[0m                                 Traceback (most recent call last)",
      "\u001b[1;32m~\\AppData\\Local\\Temp/ipykernel_18232/1997448545.py\u001b[0m in \u001b[0;36m<module>\u001b[1;34m\u001b[0m\n\u001b[0;32m      1\u001b[0m \u001b[0memail\u001b[0m \u001b[1;33m=\u001b[0m \u001b[1;34m\"myprogrammingisfun@gmail.com\"\u001b[0m\u001b[1;33m\u001b[0m\u001b[1;33m\u001b[0m\u001b[0m\n\u001b[1;32m----> 2\u001b[1;33m \u001b[0memail\u001b[0m \u001b[1;33m=\u001b[0m \u001b[1;34m'@'\u001b[0m\u001b[1;33m.\u001b[0m\u001b[0mjoin\u001b[0m\u001b[1;33m(\u001b[0m\u001b[1;33m[\u001b[0m\u001b[0mi\u001b[0m\u001b[1;33m[\u001b[0m\u001b[1;36m0\u001b[0m\u001b[1;33m]\u001b[0m\u001b[1;33m+\u001b[0m\u001b[1;34m'x'\u001b[0m\u001b[1;33m*\u001b[0m\u001b[1;33m(\u001b[0m\u001b[0mlen\u001b[0m\u001b[1;33m(\u001b[0m\u001b[0mi\u001b[0m\u001b[1;33m)\u001b[0m\u001b[1;33m-\u001b[0m\u001b[1;36m1\u001b[0m\u001b[1;33m)\u001b[0m \u001b[1;32mfor\u001b[0m \u001b[0mi\u001b[0m \u001b[1;32min\u001b[0m \u001b[0memail_split\u001b[0m\u001b[1;33m[\u001b[0m\u001b[1;33m:\u001b[0m\u001b[1;36m2\u001b[0m\u001b[1;33m]\u001b[0m\u001b[1;33m]\u001b[0m\u001b[1;33m)\u001b[0m\u001b[1;33m\u001b[0m\u001b[1;33m\u001b[0m\u001b[0m\n\u001b[0m",
      "\u001b[1;31mNameError\u001b[0m: name 'email_split' is not defined"
     ]
    }
   ],
   "source": [
    "email = \"myprogrammingisfun@gmail.com\"\n",
    "email = '@'.join([i[0]+'x'*(len(i)-1) for i in email_split[:2]])\n"
   ]
  },
  {
   "cell_type": "code",
   "execution_count": 3,
   "id": "6824ead8",
   "metadata": {},
   "outputs": [
    {
     "name": "stdout",
     "output_type": "stream",
     "text": [
      "What flavour would you like vanilla \n",
      "What type of dessert would you like cheese cake\n",
      "You have ordered vanilla -cheese cake\n"
     ]
    }
   ],
   "source": [
    "#Let's try building a system that could ask for flavour, and the type of desert user wants\n",
    "flavour=input(\"What flavour would you like \")\n",
    "dessert_type=input(\"What type of dessert would you like \")\n",
    "print(\"You have ordered\", flavour+\"-\"+dessert_type)"
   ]
  },
  {
   "cell_type": "code",
   "execution_count": 12,
   "id": "7216d959",
   "metadata": {},
   "outputs": [],
   "source": [
    "string = \"OQYWFClFhFGAvIWYwGKpmZhnJiyzTslSIhSwvOsqJMEphzmifTkyqOMNpnOtXZxmCfgDYqbaBHAUvIWhMnvwZnEMVDvmEfLrDoQnAZgQEgXQVnmSYkfedpAdhrtpOgORpYLRZYGWdhWYuqQssCUXtTzKRDAhpjUheOzUroZNzWFtZOVwIapzUYtbSbjYNErzQ\"\n",
    "count = 0\n",
    "#Counts each character except space  \n",
    "for i in range(0, len(string)):  \n",
    "    if(string[i] != ' '):  \n",
    "        count = count + 1;  "
   ]
  },
  {
   "cell_type": "code",
   "execution_count": 13,
   "id": "c9d51510",
   "metadata": {},
   "outputs": [
    {
     "name": "stdout",
     "output_type": "stream",
     "text": [
      "Total number of characters in a string: 193\n"
     ]
    }
   ],
   "source": [
    "print(\"Total number of characters in a string: \" + str(count));  "
   ]
  },
  {
   "cell_type": "code",
   "execution_count": 20,
   "id": "f4bdcb2d",
   "metadata": {},
   "outputs": [
    {
     "name": "stdout",
     "output_type": "stream",
     "text": [
      "193\n"
     ]
    }
   ],
   "source": [
    "print(str(count));  "
   ]
  },
  {
   "cell_type": "code",
   "execution_count": 22,
   "id": "82274eaa",
   "metadata": {},
   "outputs": [
    {
     "name": "stdout",
     "output_type": "stream",
     "text": [
      "a\n"
     ]
    }
   ],
   "source": [
    "print(str('a')); "
   ]
  },
  {
   "cell_type": "code",
   "execution_count": 23,
   "id": "0202108b",
   "metadata": {},
   "outputs": [
    {
     "data": {
      "text/plain": [
       "2"
      ]
     },
     "execution_count": 23,
     "metadata": {},
     "output_type": "execute_result"
    }
   ],
   "source": [
    "string.count('a')\n"
   ]
  },
  {
   "cell_type": "code",
   "execution_count": 24,
   "id": "ecfd61e6",
   "metadata": {},
   "outputs": [
    {
     "data": {
      "text/plain": [
       "'mCfgDYqbaBHAUvIWhMnvwZnEMV'"
      ]
     },
     "execution_count": 24,
     "metadata": {},
     "output_type": "execute_result"
    }
   ],
   "source": [
    "string[63:89]"
   ]
  },
  {
   "cell_type": "code",
   "execution_count": 27,
   "id": "33b5e601",
   "metadata": {},
   "outputs": [
    {
     "data": {
      "text/plain": [
       "'z'"
      ]
     },
     "execution_count": 27,
     "metadata": {},
     "output_type": "execute_result"
    }
   ],
   "source": [
    "string[45]"
   ]
  },
  {
   "cell_type": "code",
   "execution_count": 29,
   "id": "b746b83c",
   "metadata": {},
   "outputs": [
    {
     "name": "stdout",
     "output_type": "stream",
     "text": [
      "<class 'str'>\n"
     ]
    }
   ],
   "source": [
    "number='159'\n",
    "\n",
    "print(type(number))"
   ]
  },
  {
   "cell_type": "code",
   "execution_count": 30,
   "id": "62c89aad",
   "metadata": {},
   "outputs": [
    {
     "name": "stdout",
     "output_type": "stream",
     "text": [
      "34.0\n"
     ]
    }
   ],
   "source": [
    "number=34.721\n",
    "print(float(int(number)))"
   ]
  },
  {
   "cell_type": "code",
   "execution_count": 31,
   "id": "33f4c554",
   "metadata": {},
   "outputs": [
    {
     "ename": "NameError",
     "evalue": "name 'Alex' is not defined",
     "output_type": "error",
     "traceback": [
      "\u001b[1;31m---------------------------------------------------------------------------\u001b[0m",
      "\u001b[1;31mNameError\u001b[0m                                 Traceback (most recent call last)",
      "\u001b[1;32m~\\AppData\\Local\\Temp/ipykernel_18232/4072920690.py\u001b[0m in \u001b[0;36m<module>\u001b[1;34m\u001b[0m\n\u001b[1;32m----> 1\u001b[1;33m \u001b[0mname\u001b[0m \u001b[1;33m=\u001b[0m \u001b[0mAlex\u001b[0m\u001b[1;33m\u001b[0m\u001b[1;33m\u001b[0m\u001b[0m\n\u001b[0m\u001b[0;32m      2\u001b[0m \u001b[0mprint\u001b[0m\u001b[1;33m(\u001b[0m\u001b[0mtype\u001b[0m\u001b[1;33m(\u001b[0m\u001b[0mname\u001b[0m\u001b[1;33m)\u001b[0m\u001b[1;33m)\u001b[0m\u001b[1;33m\u001b[0m\u001b[1;33m\u001b[0m\u001b[0m\n",
      "\u001b[1;31mNameError\u001b[0m: name 'Alex' is not defined"
     ]
    }
   ],
   "source": [
    "name = Alex\n",
    "print(type(name))"
   ]
  },
  {
   "cell_type": "code",
   "execution_count": 32,
   "id": "4a975840",
   "metadata": {},
   "outputs": [
    {
     "name": "stdout",
     "output_type": "stream",
     "text": [
      "0.0\n"
     ]
    }
   ],
   "source": [
    "a = 8.9\n",
    "b = 2\n",
    "c = 5\n",
    "print(a//b//c)"
   ]
  },
  {
   "cell_type": "code",
   "execution_count": 34,
   "id": "13597eb7",
   "metadata": {},
   "outputs": [
    {
     "data": {
      "text/plain": [
       "-8.0"
      ]
     },
     "execution_count": 34,
     "metadata": {},
     "output_type": "execute_result"
    }
   ],
   "source": [
    "4 // 8 + ( 2.5 + 7.5 ) - 6 * 3"
   ]
  },
  {
   "cell_type": "code",
   "execution_count": null,
   "id": "2dbfcd67",
   "metadata": {},
   "outputs": [],
   "source": [
    "This is the correct answer. \n",
    "Steps:\n",
    "4 // 8 + (2.5 + 7.5) -6 * 3\n",
    "4 // 8 + 10 - 6 * 3\n",
    "0 +10 - 6 * 3\n",
    "0 + 10 - 18\n",
    "10 - 18\n",
    "-8"
   ]
  },
  {
   "cell_type": "code",
   "execution_count": 35,
   "id": "d7bb141a",
   "metadata": {},
   "outputs": [
    {
     "data": {
      "text/plain": [
       "-9"
      ]
     },
     "execution_count": 35,
     "metadata": {},
     "output_type": "execute_result"
    }
   ],
   "source": [
    "5 % ( 2 + 12 ) ** 3 - 60 // ( 7 + 1 ) * 2"
   ]
  },
  {
   "cell_type": "code",
   "execution_count": null,
   "id": "f9ed1791",
   "metadata": {},
   "outputs": [],
   "source": [
    "This is the correct answer. \n",
    "Steps\n",
    "5 % 2774 -60 // 8 *2\n",
    "5 - 60 // 8 * 2\n",
    "5 - 7 * 2\n",
    "5 - 14 = -9"
   ]
  },
  {
   "cell_type": "code",
   "execution_count": 36,
   "id": "8e92f061",
   "metadata": {},
   "outputs": [
    {
     "name": "stdout",
     "output_type": "stream",
     "text": [
      "to cod\n"
     ]
    }
   ],
   "source": [
    "string_1 = \"I love to code in python\"\n",
    "print( string_1[7:13])"
   ]
  },
  {
   "cell_type": "code",
   "execution_count": 38,
   "id": "ebe4c0de",
   "metadata": {},
   "outputs": [
    {
     "data": {
      "text/plain": [
       "'split'"
      ]
     },
     "execution_count": 38,
     "metadata": {},
     "output_type": "execute_result"
    }
   ],
   "source": [
    "sentence = 'This sentence needs to be split into words'\n",
    "sentence[-16:-11]"
   ]
  },
  {
   "cell_type": "code",
   "execution_count": 42,
   "id": "d0d0ee7b",
   "metadata": {},
   "outputs": [
    {
     "name": "stdout",
     "output_type": "stream",
     "text": [
      "split\n"
     ]
    }
   ],
   "source": [
    "print(sentence.split()[5])"
   ]
  },
  {
   "cell_type": "code",
   "execution_count": 43,
   "id": "4ca09b92",
   "metadata": {},
   "outputs": [
    {
     "data": {
      "text/plain": [
       "' split'"
      ]
     },
     "execution_count": 43,
     "metadata": {},
     "output_type": "execute_result"
    }
   ],
   "source": [
    "sentence[-17:-11]"
   ]
  },
  {
   "cell_type": "code",
   "execution_count": 41,
   "id": "5f602ffe",
   "metadata": {},
   "outputs": [
    {
     "data": {
      "text/plain": [
       "'split'"
      ]
     },
     "execution_count": 41,
     "metadata": {},
     "output_type": "execute_result"
    }
   ],
   "source": [
    "sentence[-16:-11]"
   ]
  },
  {
   "cell_type": "code",
   "execution_count": 44,
   "id": "7d64fc2b",
   "metadata": {},
   "outputs": [
    {
     "ename": "TypeError",
     "evalue": "'str' object is not callable",
     "output_type": "error",
     "traceback": [
      "\u001b[1;31m---------------------------------------------------------------------------\u001b[0m",
      "\u001b[1;31mTypeError\u001b[0m                                 Traceback (most recent call last)",
      "\u001b[1;32m~\\AppData\\Local\\Temp/ipykernel_18232/2801681041.py\u001b[0m in \u001b[0;36m<module>\u001b[1;34m\u001b[0m\n\u001b[0;32m      1\u001b[0m \u001b[0mlen\u001b[0m \u001b[1;33m=\u001b[0m \u001b[1;34m'python'\u001b[0m\u001b[1;33m\u001b[0m\u001b[1;33m\u001b[0m\u001b[0m\n\u001b[1;32m----> 2\u001b[1;33m \u001b[0mprint\u001b[0m\u001b[1;33m(\u001b[0m\u001b[0mlen\u001b[0m\u001b[1;33m(\u001b[0m\u001b[0mlen\u001b[0m\u001b[1;33m)\u001b[0m\u001b[1;33m)\u001b[0m\u001b[1;33m\u001b[0m\u001b[1;33m\u001b[0m\u001b[0m\n\u001b[0m",
      "\u001b[1;31mTypeError\u001b[0m: 'str' object is not callable"
     ]
    }
   ],
   "source": [
    "len = 'python'\n",
    "print(len(len))"
   ]
  },
  {
   "cell_type": "code",
   "execution_count": 45,
   "id": "f9caa9cf",
   "metadata": {},
   "outputs": [
    {
     "ename": "SyntaxError",
     "evalue": "invalid syntax (Temp/ipykernel_18232/4058991420.py, line 2)",
     "output_type": "error",
     "traceback": [
      "\u001b[1;36m  File \u001b[1;32m\"C:\\Users\\vanda\\AppData\\Local\\Temp/ipykernel_18232/4058991420.py\"\u001b[1;36m, line \u001b[1;32m2\u001b[0m\n\u001b[1;33m    if x%2==0\u001b[0m\n\u001b[1;37m             ^\u001b[0m\n\u001b[1;31mSyntaxError\u001b[0m\u001b[1;31m:\u001b[0m invalid syntax\n"
     ]
    }
   ],
   "source": [
    "x=10\n",
    "if x%2==0\n",
    "print(\"even number\")\n",
    "else\n",
    "print(\"odd number\") "
   ]
  },
  {
   "cell_type": "code",
   "execution_count": 46,
   "id": "14d48b32",
   "metadata": {},
   "outputs": [
    {
     "name": "stdout",
     "output_type": "stream",
     "text": [
      "false\n",
      "true\n"
     ]
    }
   ],
   "source": [
    "if 4+9<10:\n",
    "  print(\"true\")\n",
    "else:\n",
    "  print(\"false\")\n",
    "print(\"true\")"
   ]
  },
  {
   "cell_type": "code",
   "execution_count": 49,
   "id": "75209f71",
   "metadata": {},
   "outputs": [
    {
     "name": "stdout",
     "output_type": "stream",
     "text": [
      "fair\n"
     ]
    }
   ],
   "source": [
    "x = 67\n",
    "\n",
    "if x>50:\n",
    "  if x>90:\n",
    "    print(\"excellent\")\n",
    "  else:\n",
    "    if x>80:\n",
    "      print(\"good\")\n",
    "    else:\n",
    "      print(\"fair\")\n",
    "else:\n",
    "  if x>30:\n",
    "    print(\"average\")\n",
    "  else:\n",
    "    print(\"poor\")"
   ]
  },
  {
   "cell_type": "code",
   "execution_count": 51,
   "id": "be43ebc8",
   "metadata": {},
   "outputs": [],
   "source": [
    "a='pqrstuv'\n",
    "i='j'\n",
    "while i in a:\n",
    "  print(i)"
   ]
  },
  {
   "cell_type": "code",
   "execution_count": null,
   "id": "65e8c53f",
   "metadata": {},
   "outputs": [],
   "source": [
    "no output"
   ]
  },
  {
   "cell_type": "code",
   "execution_count": 53,
   "id": "47f88b27",
   "metadata": {},
   "outputs": [],
   "source": [
    "i = 16\n",
    "while False:\n",
    "    if i%2 == 0:\n",
    "        break\n",
    "    print(i)\n",
    "    i += 2"
   ]
  },
  {
   "cell_type": "code",
   "execution_count": null,
   "id": "4d8bc1c5",
   "metadata": {},
   "outputs": [],
   "source": [
    "## no output = Correct! No output will be printed because the code in the while loop is not executed as the while condition is defined to be 'False' irrespective of the value of 'i'."
   ]
  },
  {
   "cell_type": "code",
   "execution_count": 54,
   "id": "9b76af7a",
   "metadata": {},
   "outputs": [
    {
     "ename": "TypeError",
     "evalue": "'str' object is not callable",
     "output_type": "error",
     "traceback": [
      "\u001b[1;31m---------------------------------------------------------------------------\u001b[0m",
      "\u001b[1;31mTypeError\u001b[0m                                 Traceback (most recent call last)",
      "\u001b[1;32m~\\AppData\\Local\\Temp/ipykernel_18232/483438198.py\u001b[0m in \u001b[0;36m<module>\u001b[1;34m\u001b[0m\n\u001b[0;32m      1\u001b[0m \u001b[0ms\u001b[0m\u001b[1;33m=\u001b[0m\u001b[1;34m\"Upgrad\"\u001b[0m\u001b[1;33m\u001b[0m\u001b[1;33m\u001b[0m\u001b[0m\n\u001b[0;32m      2\u001b[0m \u001b[1;33m\u001b[0m\u001b[0m\n\u001b[1;32m----> 3\u001b[1;33m \u001b[1;32mfor\u001b[0m \u001b[0mi\u001b[0m \u001b[1;32min\u001b[0m \u001b[0mrange\u001b[0m\u001b[1;33m(\u001b[0m\u001b[0mlen\u001b[0m\u001b[1;33m(\u001b[0m\u001b[0ms\u001b[0m\u001b[1;33m)\u001b[0m\u001b[1;33m)\u001b[0m\u001b[1;33m:\u001b[0m\u001b[1;33m\u001b[0m\u001b[1;33m\u001b[0m\u001b[0m\n\u001b[0m\u001b[0;32m      4\u001b[0m     \u001b[1;32mif\u001b[0m \u001b[0ms\u001b[0m\u001b[1;33m[\u001b[0m\u001b[0mi\u001b[0m\u001b[1;33m]\u001b[0m \u001b[1;32min\u001b[0m \u001b[1;34m'a'\u001b[0m\u001b[1;33m:\u001b[0m\u001b[1;33m\u001b[0m\u001b[1;33m\u001b[0m\u001b[0m\n\u001b[0;32m      5\u001b[0m         \u001b[0ms\u001b[0m\u001b[1;33m[\u001b[0m\u001b[0mi\u001b[0m\u001b[1;33m]\u001b[0m\u001b[1;33m=\u001b[0m\u001b[1;34m'*'\u001b[0m\u001b[1;33m\u001b[0m\u001b[1;33m\u001b[0m\u001b[0m\n",
      "\u001b[1;31mTypeError\u001b[0m: 'str' object is not callable"
     ]
    }
   ],
   "source": [
    "s=\"Upgrad\"\n",
    "\n",
    "for i in range(len(s)):\n",
    "    if s[i] in 'a':\n",
    "        s[i]='*'\n",
    "\n",
    "print(s)"
   ]
  },
  {
   "cell_type": "code",
   "execution_count": null,
   "id": "e53aeea9",
   "metadata": {},
   "outputs": [],
   "source": [
    "### Feedback: Correct! String data type in Python is immutable. You can assign a whole new string to the string 's' defined but not change some characters only in the string"
   ]
  },
  {
   "cell_type": "code",
   "execution_count": null,
   "id": "1f433b7b",
   "metadata": {},
   "outputs": [],
   "source": [
    "\n",
    "\n",
    "# Take input\n",
    "inp=input()\n",
    "\n",
    "write your code here"
   ]
  },
  {
   "cell_type": "code",
   "execution_count": 66,
   "id": "dc3749fe",
   "metadata": {},
   "outputs": [
    {
     "ename": "SyntaxError",
     "evalue": "invalid syntax (Temp/ipykernel_18232/2827856101.py, line 5)",
     "output_type": "error",
     "traceback": [
      "\u001b[1;36m  File \u001b[1;32m\"C:\\Users\\vanda\\AppData\\Local\\Temp/ipykernel_18232/2827856101.py\"\u001b[1;36m, line \u001b[1;32m5\u001b[0m\n\u001b[1;33m    A digit or a letter of the alphabet\u001b[0m\n\u001b[1;37m      ^\u001b[0m\n\u001b[1;31mSyntaxError\u001b[0m\u001b[1;31m:\u001b[0m invalid syntax\n"
     ]
    }
   ],
   "source": [
    "Digit or Alphabet\n",
    "Description\n",
    "#Write a program to display whether the input is a digit or a letter of the alphabet.\n",
    "\n",
    "A digit or a letter of the alphabet\n",
    "\n",
    "Displays whether the given output is an integer or a letter of the alphabet\n",
    "\n",
    "Sample input:\n",
    "\n",
    "1\n",
    "\n",
    "Sample output:\n",
    "\n",
    "Integer\n",
    "\n",
    "Sample input:\n",
    "\n",
    "b\n",
    "\n",
    "Sample output:\n",
    "\n",
    "Alphabet\n",
    "# Take input\n",
    "ch = input(\"Please Enter Any Character : \")\n",
    " \n",
    "if((ch >= 'a' and ch <= 'z') or (ch >= 'A' and ch <= 'Z')): \n",
    "    print(\"The Given Character \", ch, \"is an Alphabet\") \n",
    "elif(ch >= '0' and ch <= '9'):\n",
    "    print(\"The Given Character \", ch, \"is a Digit\")\n",
    "else:\n",
    "    print(\"The Given Character \", ch, \"is a Special Character\")\n"
   ]
  },
  {
   "cell_type": "code",
   "execution_count": null,
   "id": "1d6ac689",
   "metadata": {},
   "outputs": [],
   "source": [
    "ch = input(\"Please Enter Any Character : \")\n",
    " \n",
    "if((ch >= 'a' and ch <= 'z') or (ch >= 'A' and ch <= 'Z')): \n",
    "    print(\"The Given Character \", ch, \"is an Alphabet\") \n",
    "elif(ch >= '0' and ch <= '9'):\n",
    "    print(\"The Given Character \", ch, \"is a Digit\")\n",
    "else:\n",
    "    print(\"The Given Character \", ch, \"is a Special Character\")"
   ]
  },
  {
   "cell_type": "code",
   "execution_count": null,
   "id": "12abad73",
   "metadata": {},
   "outputs": [],
   "source": [
    "# Take input\n",
    "inp=input(\"Please Enter Any Character : \")\n",
    " \n",
    "if((inp >= '0' and inp <= '9'):\n",
    "    print(\"The Given Character \", inp, \"is a Integer\")\n",
    "    \n",
    "elif(inp >= 'a' and inp <= 'z') or (inp >= 'A' and inp <= 'Z': \n",
    "    print(\"The Given Character \", inp, \"is an Alphabet\") \n",
    "else:\n",
    "    print(\"The Given Character \", inp, \"is a Special Character\")"
   ]
  },
  {
   "cell_type": "code",
   "execution_count": null,
   "id": "531d638e",
   "metadata": {},
   "outputs": [],
   "source": [
    "Output:\n",
    "\n",
    "A string with vowels removed\n",
    "\n",
    "Sample input:\n",
    "\n",
    "Upgrad\n",
    "\n",
    "Sample output:\n",
    "\n",
    "pgrd\n",
    "\n",
    "Sample input:\n",
    "\n",
    "Python Programming\n",
    "\n",
    "Sample output:\n",
    "\n",
    "Pythn Prgrmmng"
   ]
  },
  {
   "cell_type": "code",
   "execution_count": null,
   "id": "22f9fe13",
   "metadata": {},
   "outputs": [],
   "source": [
    "string = input(\"Enter any string: \")\n",
    "if string == 'x':\n",
    "    exit();\n",
    "else:\n",
    "    newstr = string;\n",
    "    print(\"\\nRemoving vowels from the given string\");\n",
    "    vowels = ('a', 'e', 'i', 'o', 'u');\n",
    "    for x in string.lower():\n",
    "        if x in vowels:\n",
    "            newstr = newstr.replace(x,\"\");\n",
    "    print(\"New string after successfully removed all the vowels:\");\n",
    "    print(newstr);"
   ]
  },
  {
   "cell_type": "code",
   "execution_count": 14,
   "id": "f64e7ae0",
   "metadata": {},
   "outputs": [
    {
     "ename": "IndentationError",
     "evalue": "expected an indented block (Temp/ipykernel_28140/3976933957.py, line 6)",
     "output_type": "error",
     "traceback": [
      "\u001b[1;36m  File \u001b[1;32m\"C:\\Users\\vanda\\AppData\\Local\\Temp/ipykernel_28140/3976933957.py\"\u001b[1;36m, line \u001b[1;32m6\u001b[0m\n\u001b[1;33m    number = number * 1.\u001b[0m\n\u001b[1;37m    ^\u001b[0m\n\u001b[1;31mIndentationError\u001b[0m\u001b[1;31m:\u001b[0m expected an indented block\n"
     ]
    }
   ],
   "source": [
    "number = int(input (\"Enter the number of which the user wants to print the multiplication table: \"))\n",
    "count = 5.\n",
    "# we are using while loop for iterating the multiplication 10 times.\n",
    "print (\"*: \", number)\n",
    "while count <= 10:\n",
    "number = number * 1.\n",
    "print (number, 'x', i, '=', number * count)"
   ]
  },
  {
   "cell_type": "code",
   "execution_count": null,
   "id": "78d8cb63",
   "metadata": {},
   "outputs": [],
   "source": [
    "n = int(input(\"Enter the number to print the tables for:  \"))\n",
    "for i in range(1,11):\n",
    "    print(n,\"x\",i,\"=\",n*i)"
   ]
  },
  {
   "cell_type": "code",
   "execution_count": null,
   "id": "1aea9a31",
   "metadata": {},
   "outputs": [],
   "source": [
    "inp=input(\"Please Enter Any Input: \")\n",
    "if((inp >= '0' and inp <= '9')):\n",
    "    print(\"Input \", inp, \"is a Integer\")\n",
    "elif(inp >= 'a' and inp <= 'z') or (inp >= 'A' and inp <= 'Z'): \n",
    "    print(\"Input\", inp, \"is an Alphabet\") \n"
   ]
  },
  {
   "cell_type": "code",
   "execution_count": null,
   "id": "a701b649",
   "metadata": {},
   "outputs": [],
   "source": [
    "input =int(input(\"Please enter the String: \", end = \"\"))\n",
    "string = input()\n",
    "string_length = len(string)\n",
    "for K in string:\n",
    "ASCII = ord(K)\n",
    "print (K, \"\\t\", ASCII)\n"
   ]
  },
  {
   "cell_type": "code",
   "execution_count": 3,
   "id": "5b967a2a",
   "metadata": {},
   "outputs": [
    {
     "name": "stdout",
     "output_type": "stream",
     "text": [
      "Please Enter Your Own Character : 1\n",
      "The Given Character  1 is a Digit\n",
      "Please Enter Your Own Character : b\n"
     ]
    }
   ],
   "source": [
    "ch = input(\"Please Enter Your Own Character : \")\n",
    "\n",
    "if(ch.isdigit()):\n",
    "    print(\"The Given Character \", ch, \"is a Digit\")\n",
    "    \n",
    "    ch = input(\"Please Enter Your Own Character : \")\n",
    "elif(ch.isalpha()):\n",
    "    print(\"The Given Character \", ch, \"is an Alphabet\")\n",
    "    \n",
    "    ch = input(\"Please Enter Your Own Character : \")\n",
    "else:\n",
    "    print (\"The Given Character \", ch, \"is a Special Character\")"
   ]
  },
  {
   "cell_type": "code",
   "execution_count": null,
   "id": "60ac39df",
   "metadata": {},
   "outputs": [],
   "source": []
  },
  {
   "cell_type": "code",
   "execution_count": null,
   "id": "209b3a41",
   "metadata": {},
   "outputs": [],
   "source": [
    "sentence = input(\"Enter the String\")\n",
    "\n",
    "print(\"Number of Vowels in Given strign is:\",len([ i for i in sentence if i in \"aeiou or AEIOU\"]))"
   ]
  },
  {
   "cell_type": "code",
   "execution_count": null,
   "id": "ff520cec",
   "metadata": {},
   "outputs": [],
   "source": [
    "sentence = input (\"enter the sentence:\")\n",
    "list1 = [\"a\",\"e ,\",\"i\",\"o\",\"u\" or \"A\", \"E\", \"I\", \"O\", \"U\"]\n",
    "for char in  string:\n",
    "if char in sentence :\n",
    "remove.list\n",
    "\n",
    "print(sentence)"
   ]
  },
  {
   "cell_type": "code",
   "execution_count": null,
   "id": "8640bf61",
   "metadata": {},
   "outputs": [],
   "source": [
    "s = input(\"Please Enter Any Character : \") \n",
    "v = [\"a\",\"e\",\"i\",\"o\",\"u\"]\n",
    "s1 = ''\n",
    "for i in s:\n",
    "    if i.lower() not in v:\n",
    "        s1 += i\n",
    "print(s1)"
   ]
  },
  {
   "cell_type": "code",
   "execution_count": null,
   "id": "409f058d",
   "metadata": {},
   "outputs": [],
   "source": [
    "import re\n",
    "\n",
    "vowels = 'aeiouAEIOU'\n",
    "\n",
    "given_str = input(\"Enter a string : \")\n",
    "final_str = given_str\n",
    "\n",
    "for c in given_str:\n",
    "    if c in vowels:\n",
    "        final_str = final_str.replace(c,\"\")\n",
    "\n",
    "print(final_str)"
   ]
  },
  {
   "cell_type": "code",
   "execution_count": null,
   "id": "aab3bb0c",
   "metadata": {},
   "outputs": [],
   "source": [
    "import re\n",
    "\n",
    "vowels_pattern = r'[AEIOU]'\n",
    "\n",
    "given_str = input(\"Enter a string : \")\n",
    "final_str = re.sub(vowels_pattern, '', given_str, flags=re.IGNORECASE)\n",
    "\n",
    "print(final_str)"
   ]
  },
  {
   "cell_type": "code",
   "execution_count": null,
   "id": "d5b2725e",
   "metadata": {},
   "outputs": [],
   "source": [
    "str = input(\"Enter The String: \")\n",
    "\n",
    "vowels = 'a,e,i,o,u,A,E,I,U,O'\n",
    "str = str.lower()\n",
    "\n",
    "for i in str:\n",
    "    if i in vowels:\n",
    "        str = str.replace(i,\"\")"
   ]
  },
  {
   "cell_type": "code",
   "execution_count": null,
   "id": "424e71de",
   "metadata": {},
   "outputs": [],
   "source": [
    "inp=input()\n",
    "if inp.isdigit():\n",
    "      print(\"Integer\")\n",
    "elif inp.isalpha():\n",
    "      print(\"Alphabet\")\n",
    "    "
   ]
  },
  {
   "cell_type": "code",
   "execution_count": null,
   "id": "c232ba66",
   "metadata": {},
   "outputs": [],
   "source": [
    "vowels = 'aeiouAEIOU'\n",
    "\n",
    "given_str = input(\"Enter a string: \")\n",
    "final_str = given_str\n",
    "\n",
    "for c in given_str:\n",
    "    if c in vowels:\n",
    "        final_str = final_str.replace(c,\"\")\n",
    "\n",
    "print(final_str)"
   ]
  },
  {
   "cell_type": "code",
   "execution_count": null,
   "id": "cbbde5cf",
   "metadata": {},
   "outputs": [],
   "source": [
    "string = (\"My name is shashank seth)\n",
    "          "
   ]
  },
  {
   "cell_type": "code",
   "execution_count": null,
   "id": "9eb79ced",
   "metadata": {},
   "outputs": [],
   "source": [
    "string.find(\"shashank seth\")"
   ]
  },
  {
   "cell_type": "code",
   "execution_count": 1,
   "id": "de0d0fbb",
   "metadata": {},
   "outputs": [
    {
     "data": {
      "text/plain": [
       "['Chemistry', 'Biology', [1989, 2004]]"
      ]
     },
     "execution_count": 1,
     "metadata": {},
     "output_type": "execute_result"
    }
   ],
   "source": [
    "# Indexing example \n",
    "L = [\"Chemistry\", \"Biology\", [1989, 2004], (\"Oreily\", \"Pearson\")]\n",
    "L[0]\n",
    "\n",
    "# Slicing\n",
    "L[0:3]"
   ]
  },
  {
   "cell_type": "code",
   "execution_count": 3,
   "id": "cd4bb13f",
   "metadata": {},
   "outputs": [
    {
     "name": "stdout",
     "output_type": "stream",
     "text": [
      "2\n"
     ]
    }
   ],
   "source": [
    "list_1 = [2, 33, 222, 14, 25]\n",
    "print(list_1[-5])"
   ]
  },
  {
   "cell_type": "code",
   "execution_count": 28,
   "id": "124bb1db",
   "metadata": {},
   "outputs": [
    {
     "name": "stdout",
     "output_type": "stream",
     "text": [
      "\n"
     ]
    }
   ],
   "source": [
    "list = ['Pythons syntax is easy to learn', 'Pythons syntax is very clear']\n",
    "import ast,sys\n",
    "input_str = (sys.stdin.read()).split(',')\n",
    "\n",
    "string_1 = ' & '.join(input_str)\n",
    "print(string_1)"
   ]
  },
  {
   "cell_type": "code",
   "execution_count": 33,
   "id": "44e098f5",
   "metadata": {},
   "outputs": [
    {
     "data": {
      "text/plain": [
       "['Tableau', 'SQL']"
      ]
     },
     "execution_count": 33,
     "metadata": {},
     "output_type": "execute_result"
    }
   ],
   "source": [
    "input_list =  [['SAS','R'],['Tableau','SQL'],['Python','Java']]\n",
    "input_list[1]"
   ]
  },
  {
   "cell_type": "code",
   "execution_count": 29,
   "id": "957b5a71",
   "metadata": {},
   "outputs": [
    {
     "ename": "NameError",
     "evalue": "name 'input_list' is not defined",
     "output_type": "error",
     "traceback": [
      "\u001b[1;31m---------------------------------------------------------------------------\u001b[0m",
      "\u001b[1;31mNameError\u001b[0m                                 Traceback (most recent call last)",
      "\u001b[1;32m~\\AppData\\Local\\Temp/ipykernel_28140/2536625519.py\u001b[0m in \u001b[0;36m<module>\u001b[1;34m\u001b[0m\n\u001b[1;32m----> 1\u001b[1;33m \u001b[0minput_list\u001b[0m\u001b[1;33m[\u001b[0m\u001b[1;36m2\u001b[0m\u001b[1;33m]\u001b[0m\u001b[1;33m[\u001b[0m\u001b[1;36m0\u001b[0m\u001b[1;33m]\u001b[0m\u001b[1;33m\u001b[0m\u001b[1;33m\u001b[0m\u001b[0m\n\u001b[0m",
      "\u001b[1;31mNameError\u001b[0m: name 'input_list' is not defined"
     ]
    }
   ],
   "source": [
    "input_list[2][0]"
   ]
  },
  {
   "cell_type": "code",
   "execution_count": 36,
   "id": "ebf38a78",
   "metadata": {},
   "outputs": [
    {
     "ename": "SyntaxError",
     "evalue": "invalid syntax (Temp/ipykernel_28140/977560106.py, line 3)",
     "output_type": "error",
     "traceback": [
      "\u001b[1;36m  File \u001b[1;32m\"C:\\Users\\vanda\\AppData\\Local\\Temp/ipykernel_28140/977560106.py\"\u001b[1;36m, line \u001b[1;32m3\u001b[0m\n\u001b[1;33m    first name = input_str[1]\u001b[0m\n\u001b[1;37m          ^\u001b[0m\n\u001b[1;31mSyntaxError\u001b[0m\u001b[1;31m:\u001b[0m invalid syntax\n"
     ]
    }
   ],
   "source": [
    "input_str = 'Kumar_Ravi_003'\n",
    "input_str = input_str.split(\"_\")\n",
    "first name = input_str[1]\n",
    "Last name = input_str[0]\n",
    "Employee code = input_str[2]"
   ]
  },
  {
   "cell_type": "code",
   "execution_count": 37,
   "id": "2d6c1de8",
   "metadata": {},
   "outputs": [
    {
     "name": "stdout",
     "output_type": "stream",
     "text": [
      "Ravi\n",
      "Kumar\n",
      "003\n"
     ]
    }
   ],
   "source": [
    "input_str = 'Kumar_Ravi_003'\n",
    "first_name = input_str[6:10]\n",
    "second_name = input_str[0:5]\n",
    "third_name = input_str[11:14]\n",
    "print(first_name)\n",
    "print(second_name)\n",
    "print(third_name)"
   ]
  },
  {
   "cell_type": "code",
   "execution_count": 38,
   "id": "568fd4cf",
   "metadata": {},
   "outputs": [],
   "source": [
    "# extend()\n",
    "L = [\"Chemistry\", \"Biology\", [1989,  2004] ,(\"Oreily\" , \"Pearson\")]\n",
    "L.extend([5, 8])\n",
    "L\n",
    "\n",
    "# append()\n",
    "L = [\"Chemistry\", \"Biology\", [1989,  2004], (\"Oreily\" , \"Pearson\")]\n",
    "L.append([5, 8])"
   ]
  },
  {
   "cell_type": "code",
   "execution_count": 39,
   "id": "286e9416",
   "metadata": {},
   "outputs": [
    {
     "name": "stdout",
     "output_type": "stream",
     "text": [
      "2\n"
     ]
    }
   ],
   "source": [
    "list_1 = [2, 33, 222, 14, 25]"
   ]
  },
  {
   "cell_type": "code",
   "execution_count": 41,
   "id": "bab7b197",
   "metadata": {},
   "outputs": [
    {
     "name": "stdout",
     "output_type": "stream",
     "text": [
      "[]\n"
     ]
    }
   ],
   "source": [
    "\n",
    "word = ['1','2','3','4']\n",
    "word[ : ] = [ ] \n",
    "print(word)"
   ]
  },
  {
   "cell_type": "code",
   "execution_count": 42,
   "id": "14591f2a",
   "metadata": {},
   "outputs": [
    {
     "name": "stdout",
     "output_type": "stream",
     "text": [
      "['five', 'four', 'one', 'six', 'three', 'two']\n",
      "['one', 'two', 'three', 'four', 'five', 'six']\n"
     ]
    }
   ],
   "source": [
    "L = ['one','two','three', 'four', 'five', 'six']\n",
    "print(sorted(L))\n",
    "print (L)"
   ]
  },
  {
   "cell_type": "code",
   "execution_count": 43,
   "id": "ce55479e",
   "metadata": {},
   "outputs": [
    {
     "data": {
      "text/plain": [
       "'s'"
      ]
     },
     "execution_count": 43,
     "metadata": {},
     "output_type": "execute_result"
    }
   ],
   "source": [
    "t = (\"disco\", 12, 4.5)\n",
    "t[0][2]"
   ]
  },
  {
   "cell_type": "code",
   "execution_count": 44,
   "id": "92e117f5",
   "metadata": {},
   "outputs": [
    {
     "ename": "SyntaxError",
     "evalue": "unexpected EOF while parsing (<unknown>, line 0)",
     "output_type": "error",
     "traceback": [
      "Traceback \u001b[1;36m(most recent call last)\u001b[0m:\n",
      "  File \u001b[0;32m\"C:\\ProgramData\\Anaconda3\\lib\\site-packages\\IPython\\core\\interactiveshell.py\"\u001b[0m, line \u001b[0;32m3444\u001b[0m, in \u001b[0;35mrun_code\u001b[0m\n    exec(code_obj, self.user_global_ns, self.user_ns)\n",
      "  File \u001b[0;32m\"C:\\Users\\vanda\\AppData\\Local\\Temp/ipykernel_28140/3094781247.py\"\u001b[0m, line \u001b[0;32m4\u001b[0m, in \u001b[0;35m<module>\u001b[0m\n    input_tuple = ast.literal_eval(input_str)\n",
      "  File \u001b[0;32m\"C:\\ProgramData\\Anaconda3\\lib\\ast.py\"\u001b[0m, line \u001b[0;32m62\u001b[0m, in \u001b[0;35mliteral_eval\u001b[0m\n    node_or_string = parse(node_or_string, mode='eval')\n",
      "\u001b[1;36m  File \u001b[1;32m\"C:\\ProgramData\\Anaconda3\\lib\\ast.py\"\u001b[1;36m, line \u001b[1;32m50\u001b[1;36m, in \u001b[1;35mparse\u001b[1;36m\u001b[0m\n\u001b[1;33m    return compile(source, filename, mode, flags,\u001b[0m\n",
      "\u001b[1;36m  File \u001b[1;32m\"<unknown>\"\u001b[1;36m, line \u001b[1;32munknown\u001b[0m\n\u001b[1;33m    \u001b[0m\n\u001b[1;37m    ^\u001b[0m\n\u001b[1;31mSyntaxError\u001b[0m\u001b[1;31m:\u001b[0m unexpected EOF while parsing\n"
     ]
    }
   ],
   "source": [
    "input_tuple = ['Monty Python', 'British', 1969]\n",
    "import ast,sys\n",
    "input_str = sys.stdin.read()\n",
    "input_tuple = ast.literal_eval(input_str)\n",
    "\n",
    "# Write your code here\n",
    "\n",
    "# Make sure to name the final tuple 'tuple_2'\n",
    "tuple_2 = ('Monty Python', 'British', 1969)\n",
    "\n",
    "print(tuple_2)"
   ]
  },
  {
   "cell_type": "code",
   "execution_count": null,
   "id": "1633a0db",
   "metadata": {},
   "outputs": [],
   "source": [
    "import ast,sys\n",
    "input_str = sys.stdin.read()\n",
    "input_tuple = ast.literal_eval(input_str)\n",
    "\n",
    "# Write your code here\n",
    "\n",
    "# Make sure to name the final tuple 'tuple_2'\n",
    "print(tuple_2)"
   ]
  },
  {
   "cell_type": "code",
   "execution_count": 45,
   "id": "7d30af3b",
   "metadata": {},
   "outputs": [
    {
     "ename": "SyntaxError",
     "evalue": "unexpected EOF while parsing (<unknown>, line 0)",
     "output_type": "error",
     "traceback": [
      "Traceback \u001b[1;36m(most recent call last)\u001b[0m:\n",
      "  File \u001b[0;32m\"C:\\ProgramData\\Anaconda3\\lib\\site-packages\\IPython\\core\\interactiveshell.py\"\u001b[0m, line \u001b[0;32m3444\u001b[0m, in \u001b[0;35mrun_code\u001b[0m\n    exec(code_obj, self.user_global_ns, self.user_ns)\n",
      "  File \u001b[0;32m\"C:\\Users\\vanda\\AppData\\Local\\Temp/ipykernel_28140/3795565130.py\"\u001b[0m, line \u001b[0;32m3\u001b[0m, in \u001b[0;35m<module>\u001b[0m\n    input_tuple = ast.literal_eval(input_str)\n",
      "  File \u001b[0;32m\"C:\\ProgramData\\Anaconda3\\lib\\ast.py\"\u001b[0m, line \u001b[0;32m62\u001b[0m, in \u001b[0;35mliteral_eval\u001b[0m\n    node_or_string = parse(node_or_string, mode='eval')\n",
      "\u001b[1;36m  File \u001b[1;32m\"C:\\ProgramData\\Anaconda3\\lib\\ast.py\"\u001b[1;36m, line \u001b[1;32m50\u001b[1;36m, in \u001b[1;35mparse\u001b[1;36m\u001b[0m\n\u001b[1;33m    return compile(source, filename, mode, flags,\u001b[0m\n",
      "\u001b[1;36m  File \u001b[1;32m\"<unknown>\"\u001b[1;36m, line \u001b[1;32munknown\u001b[0m\n\u001b[1;33m    \u001b[0m\n\u001b[1;37m    ^\u001b[0m\n\u001b[1;31mSyntaxError\u001b[0m\u001b[1;31m:\u001b[0m unexpected EOF while parsing\n"
     ]
    }
   ],
   "source": [
    "import ast,sys\n",
    "input_str = sys.stdin.read()\n",
    "input_tuple = ast.literal_eval(input_str)\n",
    "list_1 = list(input_tuple)\n",
    "list1.append('Python')\n",
    "tuple_2 = tuple(list1)\n",
    "print(tuple_2)"
   ]
  },
  {
   "cell_type": "code",
   "execution_count": 46,
   "id": "93a45e58",
   "metadata": {},
   "outputs": [
    {
     "ename": "SyntaxError",
     "evalue": "unexpected EOF while parsing (<unknown>, line 0)",
     "output_type": "error",
     "traceback": [
      "Traceback \u001b[1;36m(most recent call last)\u001b[0m:\n",
      "  File \u001b[0;32m\"C:\\ProgramData\\Anaconda3\\lib\\site-packages\\IPython\\core\\interactiveshell.py\"\u001b[0m, line \u001b[0;32m3444\u001b[0m, in \u001b[0;35mrun_code\u001b[0m\n    exec(code_obj, self.user_global_ns, self.user_ns)\n",
      "  File \u001b[0;32m\"C:\\Users\\vanda\\AppData\\Local\\Temp/ipykernel_28140/1583443284.py\"\u001b[0m, line \u001b[0;32m3\u001b[0m, in \u001b[0;35m<module>\u001b[0m\n    input_tuple = ast.literal_eval(input_str)\n",
      "  File \u001b[0;32m\"C:\\ProgramData\\Anaconda3\\lib\\ast.py\"\u001b[0m, line \u001b[0;32m62\u001b[0m, in \u001b[0;35mliteral_eval\u001b[0m\n    node_or_string = parse(node_or_string, mode='eval')\n",
      "\u001b[1;36m  File \u001b[1;32m\"C:\\ProgramData\\Anaconda3\\lib\\ast.py\"\u001b[1;36m, line \u001b[1;32m50\u001b[1;36m, in \u001b[1;35mparse\u001b[1;36m\u001b[0m\n\u001b[1;33m    return compile(source, filename, mode, flags,\u001b[0m\n",
      "\u001b[1;36m  File \u001b[1;32m\"<unknown>\"\u001b[1;36m, line \u001b[1;32munknown\u001b[0m\n\u001b[1;33m    \u001b[0m\n\u001b[1;37m    ^\u001b[0m\n\u001b[1;31mSyntaxError\u001b[0m\u001b[1;31m:\u001b[0m unexpected EOF while parsing\n"
     ]
    }
   ],
   "source": [
    "import ast,sys\n",
    "input_str = sys.stdin.read()\n",
    "input_tuple = ast.literal_eval(input_str)\n",
    "t2= ('Python' ,)\n",
    "output_tuple= input_tuple +t2\n",
    "print(output_tuple)"
   ]
  },
  {
   "cell_type": "code",
   "execution_count": 20,
   "id": "90a41806",
   "metadata": {},
   "outputs": [
    {
     "name": "stdout",
     "output_type": "stream",
     "text": [
      "('Monty Python', 'British', 1969, 'Python')\n"
     ]
    }
   ],
   "source": [
    "input_tuple = ('Monty Python', 'British', 1969)\n",
    "l1 = list(input_tuple)\n",
    "l1.append('Python')\n",
    "\n",
    "tuple_2 = tuple(l1)\n",
    "print(tuple_2)"
   ]
  },
  {
   "cell_type": "code",
   "execution_count": null,
   "id": "66c7daa6",
   "metadata": {},
   "outputs": [],
   "source": [
    "ASCII values\n",
    "Description\n",
    "Write a program to accept a character and display its next and previous character. \n",
    "\n",
    "\n",
    "\n",
    "Hint: Make use of Ascii values here.\n",
    "\n",
    "\n",
    "\n",
    "----------------------------------------------------------------------\n",
    "\n",
    "Input:\n",
    "\n",
    "A character\n",
    "\n",
    "\n",
    "\n",
    "Output:\n",
    "\n",
    "Previous character and the next character of the given character\n",
    "\n",
    "\n",
    "\n",
    "----------------------------------------------------------------------\n",
    "\n",
    "Sample input:\n",
    "\n",
    "D\n",
    "\n",
    "\n",
    "\n",
    "Sample output:\n",
    "\n",
    "C\n",
    "\n",
    "E\n",
    "\n",
    "\n",
    "\n",
    "----------------------------------------------------------------------\n",
    "\n",
    "----------------------------------------------------------------------\n",
    "\n",
    "Sample input:\n",
    "\n",
    "8\n",
    "\n",
    "\n",
    "\n",
    "Sample output:\n",
    "\n",
    "7\n",
    "\n",
    "9\n",
    "\n",
    "\n",
    "\n",
    "----------------------------------------------------------------------\n",
    "\n",
    "Sample input:\n",
    "\n",
    "@\n",
    "\n",
    "\n",
    "\n",
    "Sample Output: \n",
    "\n",
    "?\n",
    "\n",
    "A"
   ]
  },
  {
   "cell_type": "code",
   "execution_count": null,
   "id": "24e24e46",
   "metadata": {},
   "outputs": [],
   "source": [
    "a = str(input())\n",
    "x = chr(ord(a)+1)\n",
    "y = chr(ord(a)-1)\n",
    "print(y)\n",
    "print(x)"
   ]
  },
  {
   "cell_type": "code",
   "execution_count": 19,
   "id": "d89562d2",
   "metadata": {},
   "outputs": [
    {
     "ename": "NameError",
     "evalue": "name 'input_tuple' is not defined",
     "output_type": "error",
     "traceback": [
      "\u001b[1;31m---------------------------------------------------------------------------\u001b[0m",
      "\u001b[1;31mNameError\u001b[0m                                 Traceback (most recent call last)",
      "\u001b[1;32m~\\AppData\\Local\\Temp/ipykernel_22092/131092844.py\u001b[0m in \u001b[0;36m<module>\u001b[1;34m\u001b[0m\n\u001b[1;32m----> 1\u001b[1;33m \u001b[0ml1\u001b[0m \u001b[1;33m=\u001b[0m \u001b[0mlist\u001b[0m\u001b[1;33m(\u001b[0m\u001b[0minput_tuple\u001b[0m\u001b[1;33m)\u001b[0m\u001b[1;33m\u001b[0m\u001b[1;33m\u001b[0m\u001b[0m\n\u001b[0m\u001b[0;32m      2\u001b[0m \u001b[0ml1\u001b[0m\u001b[1;33m.\u001b[0m\u001b[0mappend\u001b[0m\u001b[1;33m(\u001b[0m\u001b[1;34m'Python'\u001b[0m\u001b[1;33m)\u001b[0m\u001b[1;33m\u001b[0m\u001b[1;33m\u001b[0m\u001b[0m\n\u001b[0;32m      3\u001b[0m \u001b[1;33m\u001b[0m\u001b[0m\n\u001b[0;32m      4\u001b[0m \u001b[0moutput\u001b[0m \u001b[1;33m=\u001b[0m \u001b[0mtuple\u001b[0m\u001b[1;33m(\u001b[0m\u001b[0ml1\u001b[0m\u001b[1;33m)\u001b[0m\u001b[1;33m\u001b[0m\u001b[1;33m\u001b[0m\u001b[0m\n\u001b[0;32m      5\u001b[0m \u001b[0mprint\u001b[0m\u001b[1;33m(\u001b[0m\u001b[0moutput\u001b[0m\u001b[1;33m)\u001b[0m\u001b[1;33m\u001b[0m\u001b[1;33m\u001b[0m\u001b[0m\n",
      "\u001b[1;31mNameError\u001b[0m: name 'input_tuple' is not defined"
     ]
    }
   ],
   "source": [
    "l1 = list(input_tuple)\n",
    "l1.append('Python')\n",
    "\n",
    "output = tuple(l1)\n",
    "print(output)"
   ]
  },
  {
   "cell_type": "code",
   "execution_count": null,
   "id": "9bedc5b6",
   "metadata": {},
   "outputs": [],
   "source": []
  },
  {
   "cell_type": "code",
   "execution_count": 2,
   "id": "a70726a7",
   "metadata": {},
   "outputs": [
    {
     "name": "stdout",
     "output_type": "stream",
     "text": [
      "Enter a string: Upgrad\n",
      "pgrd\n"
     ]
    }
   ],
   "source": [
    "import re\n",
    "\n",
    "vowels = 'aeiouAEIOU'\n",
    "\n",
    "given_str = input(\"Enter a string: \")\n",
    "final_str = given_str\n",
    "\n",
    "for c in given_str:\n",
    "    if c in vowels:\n",
    "        final_str = final_str.replace(c,\"\")\n",
    "\n",
    "print(final_str)"
   ]
  },
  {
   "cell_type": "code",
   "execution_count": null,
   "id": "e64cd63f",
   "metadata": {},
   "outputs": [],
   "source": [
    "# Take input\n",
    "s=input()\n",
    "\n",
    "# Write your code here\n",
    "for i in string:\n",
    "          If i not in \"aeiouAEIOU\":\n",
    "          Print(\"string\")\n",
    "\n",
    "#Print the result"
   ]
  },
  {
   "cell_type": "code",
   "execution_count": null,
   "id": "52ebaadd",
   "metadata": {},
   "outputs": [],
   "source": [
    "# Take input\n",
    "s=input()\n",
    "\n",
    "# Write your code here\n",
    "s= 'Python Programming'\n",
    "vowels = ['a','e','i','o','u','A','E','I','O','U']\n",
    "for x in s:\n",
    "    if x in vowels:\n",
    "        print(s.replace(x,''))\n",
    "\n",
    "#Print the result"
   ]
  },
  {
   "cell_type": "code",
   "execution_count": null,
   "id": "e2e4451c",
   "metadata": {},
   "outputs": [],
   "source": [
    "# Take input\n",
    "s=input()\n",
    "\n",
    "# Write your code here\n",
    "def removeVowels(string):\n",
    "    vowel = 'aeiou'\n",
    "    #find vowel in string\n",
    "    for ch in string.lower():\n",
    "        if ch in vowel:\n",
    "            #remove vowels\n",
    "            string = string.replace(ch, '')\n",
    "\n",
    "    #print string without vowels\n",
    "    print(string)\n",
    "\n",
    "string = input('String: ')\n",
    "removeVowels(string)\n",
    "\n"
   ]
  },
  {
   "cell_type": "code",
   "execution_count": null,
   "id": "9b2c96a2",
   "metadata": {},
   "outputs": [],
   "source": [
    "# Take input\n",
    "s=input()\n",
    "\n",
    "# Write your code here\n",
    "Vowels=[\"A\",\"E\",\"I\",\"O\",\"U\",\"a\",\"e\",\"i\",\"o\",\"u\"]\n",
    "new_inp=\"\"\n",
    "for i in range(len(s)):\n",
    "    if s[i] not in Vowels:\n",
    "        new_inp=new_inp+s[i]\n",
    "print(new_inp)\n"
   ]
  },
  {
   "cell_type": "code",
   "execution_count": null,
   "id": "193a0c1b",
   "metadata": {},
   "outputs": [],
   "source": [
    "num = int (input(“Enter the number : “)) \n",
    "print (“multiplication Table of “ , num) \n",
    "for i in range(1, 11): \n",
    "    print (num, “x” , i, ” = ” , num*i)\n",
    "    \n",
    "    \n",
    "    Read more on Sarthaks.com - https://www.sarthaks.com/1016676/write-a-program-to-display-multiplication-table-for-a-given-number"
   ]
  },
  {
   "cell_type": "code",
   "execution_count": null,
   "id": "213cd7fc",
   "metadata": {},
   "outputs": [],
   "source": [
    "n=int(input(Enter num: \"))\n",
    "           \n",
    "for i in range(1,11):\n",
    "    mult = n*i\n",
    "    print(f\"{n}*{i}={mult}\")"
   ]
  },
  {
   "cell_type": "code",
   "execution_count": null,
   "id": "1a6da64f",
   "metadata": {},
   "outputs": [],
   "source": [
    "\n",
    "int main() \n",
    "\n",
    "{\n",
    "\n",
    "    char Str[1000]; \n",
    "\n",
    "    int i; \n",
    "\n",
    " \n",
    "\n",
    "    printf(\"Enter the String: \"); \n",
    "\n",
    "    scanf(\"%s\", Str); \n",
    "\n",
    " \n",
    "\n",
    "    for (i = 0; Str[i] != '\\0'; ++i); \n",
    "\n",
    " \n",
    "\n",
    "    printf(\"Length of Str is %d\", i); \n",
    "\n",
    " \n",
    "\n",
    "    return 0;\n",
    "}"
   ]
  },
  {
   "cell_type": "code",
   "execution_count": 1,
   "id": "052dfc2d",
   "metadata": {},
   "outputs": [
    {
     "name": "stdout",
     "output_type": "stream",
     "text": [
      "Input a number: 9\n",
      "9 x 1 = 9\n",
      "9 x 2 = 18\n",
      "9 x 3 = 27\n",
      "9 x 4 = 36\n",
      "9 x 5 = 45\n",
      "9 x 6 = 54\n",
      "9 x 7 = 63\n",
      "9 x 8 = 72\n",
      "9 x 9 = 81\n",
      "9 x 10 = 90\n"
     ]
    }
   ],
   "source": [
    "n = int(input(\"Input a number: \"))\n",
    "\n",
    "# use for loop to iterate 10 times\n",
    "for i in range(1,11):\n",
    "   print(n,'x',i,'=',n*i)"
   ]
  },
  {
   "cell_type": "code",
   "execution_count": null,
   "id": "14d8182f",
   "metadata": {},
   "outputs": [],
   "source": [
    "#Take input\n",
    "n=int(input())\n",
    "\n",
    "#write your code here\n",
    "#Take input\n",
    "\n",
    "# use for loop to iterate 10 times\n",
    "for i in range(1,11):\n",
    "   print(n,'*',i,'=',n*i)"
   ]
  },
  {
   "cell_type": "code",
   "execution_count": 3,
   "id": "f9b7f759",
   "metadata": {},
   "outputs": [
    {
     "name": "stdout",
     "output_type": "stream",
     "text": [
      "Python $rogramming\n"
     ]
    }
   ],
   "source": [
    "def change_char(str1):\n",
    "  char = str1[0]\n",
    "  str1 = str1.replace(char, '$')\n",
    "  str1 = char + str1[1:]\n",
    "\n",
    "  return str1\n",
    "\n",
    "print(change_char('Python Programming'))"
   ]
  },
  {
   "cell_type": "code",
   "execution_count": 4,
   "id": "ff508541",
   "metadata": {},
   "outputs": [
    {
     "name": "stdout",
     "output_type": "stream",
     "text": [
      "15\n"
     ]
    }
   ],
   "source": [
    "def getSum(n):\n",
    "    \n",
    "    sum = 0\n",
    "    for digit in str(n): \n",
    "      sum += int(digit)      \n",
    "    return sum\n",
    "   \n",
    "n = \n",
    "print(getSum(n))"
   ]
  },
  {
   "cell_type": "code",
   "execution_count": null,
   "id": "f2807f81",
   "metadata": {},
   "outputs": [],
   "source": [
    "# Take input\n",
    "input_string=input()\n",
    "input_char=input()\n",
    "\n",
    "input_string = input_string.lower()\n",
    "input_char = input_char.lower()\n",
    "count = 0\n",
    "for i in range(len(input_string)):\n",
    "    if input_string == input_char:\n",
    "        count = count + 1\n",
    "print(count)"
   ]
  },
  {
   "cell_type": "code",
   "execution_count": null,
   "id": "2e82ca25",
   "metadata": {},
   "outputs": [],
   "source": [
    "# Take input\n",
    "input_string=input()\n",
    "input_char=input()\n",
    "\n",
    "#write your code here\n",
    "\n",
    "input_string = input_string.lower()\n",
    "input_char = input_char.lower()\n",
    "count = 0\n",
    "for i in range(len(input_string)):\n",
    "    if input_string[i] == input_char:\n",
    "        count = count + 1\n",
    "print(count)"
   ]
  },
  {
   "cell_type": "code",
   "execution_count": null,
   "id": "747e3a96",
   "metadata": {},
   "outputs": [],
   "source": [
    "num = int(input(\"Input numbers: \"))\n",
    "x  = num //1000\n",
    "x1 = (num - x*1000)//100\n",
    "x2 = (num - x*1000 - x1*100)//10\n",
    "x3 = num - x*1000 - x1*100 - x2*10\n",
    "print(\"The sum of digits in the number is\", x+x1+x2+x3)\n"
   ]
  },
  {
   "cell_type": "code",
   "execution_count": 7,
   "id": "a7fc1d29",
   "metadata": {},
   "outputs": [
    {
     "ename": "IndexError",
     "evalue": "tuple index out of range",
     "output_type": "error",
     "traceback": [
      "\u001b[1;31m---------------------------------------------------------------------------\u001b[0m",
      "\u001b[1;31mIndexError\u001b[0m                                Traceback (most recent call last)",
      "\u001b[1;32m~\\AppData\\Local\\Temp/ipykernel_22092/3151832889.py\u001b[0m in \u001b[0;36m<module>\u001b[1;34m\u001b[0m\n\u001b[0;32m      1\u001b[0m \u001b[0mt\u001b[0m \u001b[1;33m=\u001b[0m \u001b[1;33m(\u001b[0m\u001b[1;36m1\u001b[0m\u001b[1;33m,\u001b[0m \u001b[1;36m2\u001b[0m\u001b[1;33m,\u001b[0m \u001b[1;36m4\u001b[0m\u001b[1;33m,\u001b[0m \u001b[1;36m3\u001b[0m\u001b[1;33m)\u001b[0m\u001b[1;33m\u001b[0m\u001b[1;33m\u001b[0m\u001b[0m\n\u001b[1;32m----> 2\u001b[1;33m \u001b[0mprint\u001b[0m\u001b[1;33m(\u001b[0m\u001b[0mt\u001b[0m\u001b[1;33m[\u001b[0m\u001b[1;36m4\u001b[0m\u001b[1;33m]\u001b[0m\u001b[1;33m)\u001b[0m\u001b[1;33m\u001b[0m\u001b[1;33m\u001b[0m\u001b[0m\n\u001b[0m\u001b[0;32m      3\u001b[0m \u001b[1;33m\u001b[0m\u001b[0m\n",
      "\u001b[1;31mIndexError\u001b[0m: tuple index out of range"
     ]
    }
   ],
   "source": [
    "t = (1, 2, 4, 3)\n",
    "print(t[4])\n",
    "    "
   ]
  },
  {
   "cell_type": "code",
   "execution_count": 14,
   "id": "12e92004",
   "metadata": {},
   "outputs": [
    {
     "ename": "SyntaxError",
     "evalue": "invalid syntax (Temp/ipykernel_22092/1352472.py, line 1)",
     "output_type": "error",
     "traceback": [
      "\u001b[1;36m  File \u001b[1;32m\"C:\\Users\\vanda\\AppData\\Local\\Temp/ipykernel_22092/1352472.py\"\u001b[1;36m, line \u001b[1;32m1\u001b[0m\n\u001b[1;33m    type x = (Hello,'2','3')\u001b[0m\n\u001b[1;37m         ^\u001b[0m\n\u001b[1;31mSyntaxError\u001b[0m\u001b[1;31m:\u001b[0m invalid syntax\n"
     ]
    }
   ],
   "source": [
    "\n",
    "type x = (Hello,'2','3')"
   ]
  },
  {
   "cell_type": "code",
   "execution_count": 18,
   "id": "43b5addd",
   "metadata": {},
   "outputs": [
    {
     "ename": "NameError",
     "evalue": "name 'Hello' is not defined",
     "output_type": "error",
     "traceback": [
      "\u001b[1;31m---------------------------------------------------------------------------\u001b[0m",
      "\u001b[1;31mNameError\u001b[0m                                 Traceback (most recent call last)",
      "\u001b[1;32m~\\AppData\\Local\\Temp/ipykernel_22092/1539383921.py\u001b[0m in \u001b[0;36m<module>\u001b[1;34m\u001b[0m\n\u001b[1;32m----> 1\u001b[1;33m \u001b[0mx\u001b[0m \u001b[1;33m=\u001b[0m \u001b[1;33m(\u001b[0m\u001b[0mHello\u001b[0m\u001b[1;33m,\u001b[0m\u001b[1;34m'2'\u001b[0m\u001b[1;33m,\u001b[0m\u001b[1;34m'3'\u001b[0m\u001b[1;33m)\u001b[0m\u001b[1;33m\u001b[0m\u001b[1;33m\u001b[0m\u001b[0m\n\u001b[0m",
      "\u001b[1;31mNameError\u001b[0m: name 'Hello' is not defined"
     ]
    }
   ],
   "source": [
    "\n",
    "x = (Hello,'2','3')"
   ]
  },
  {
   "cell_type": "code",
   "execution_count": null,
   "id": "155680cf",
   "metadata": {},
   "outputs": [],
   "source": [
    "#Description\n",
    "Add the element ‘Python’ to a tuple input_tuple = ('Monty Python', 'British', 1969). Since tuples are immutable, one way to do this is to convert the tuple to a list, add the element, and convert it back to a tuple.\n",
    "\n",
    "\n",
    "\n",
    "Sample Input:\n",
    "\n",
    "('Monty Python', 'British', 1969)\n",
    "\n",
    "\n",
    "\n",
    "Sample Output:\n",
    "\n",
    "﻿('Monty Python', 'British', 1969, 'Python')\n",
    "\n"
   ]
  },
  {
   "cell_type": "code",
   "execution_count": 21,
   "id": "f61be8b0",
   "metadata": {},
   "outputs": [
    {
     "ename": "SyntaxError",
     "evalue": "unexpected EOF while parsing (<unknown>, line 0)",
     "output_type": "error",
     "traceback": [
      "Traceback \u001b[1;36m(most recent call last)\u001b[0m:\n",
      "  File \u001b[0;32m\"C:\\ProgramData\\Anaconda3\\lib\\site-packages\\IPython\\core\\interactiveshell.py\"\u001b[0m, line \u001b[0;32m3444\u001b[0m, in \u001b[0;35mrun_code\u001b[0m\n    exec(code_obj, self.user_global_ns, self.user_ns)\n",
      "  File \u001b[0;32m\"C:\\Users\\vanda\\AppData\\Local\\Temp/ipykernel_22092/2786107998.py\"\u001b[0m, line \u001b[0;32m3\u001b[0m, in \u001b[0;35m<module>\u001b[0m\n    input_tuple = ast.literal_eval(input_str)\n",
      "  File \u001b[0;32m\"C:\\ProgramData\\Anaconda3\\lib\\ast.py\"\u001b[0m, line \u001b[0;32m62\u001b[0m, in \u001b[0;35mliteral_eval\u001b[0m\n    node_or_string = parse(node_or_string, mode='eval')\n",
      "\u001b[1;36m  File \u001b[1;32m\"C:\\ProgramData\\Anaconda3\\lib\\ast.py\"\u001b[1;36m, line \u001b[1;32m50\u001b[1;36m, in \u001b[1;35mparse\u001b[1;36m\u001b[0m\n\u001b[1;33m    return compile(source, filename, mode, flags,\u001b[0m\n",
      "\u001b[1;36m  File \u001b[1;32m\"<unknown>\"\u001b[1;36m, line \u001b[1;32munknown\u001b[0m\n\u001b[1;33m    \u001b[0m\n\u001b[1;37m    ^\u001b[0m\n\u001b[1;31mSyntaxError\u001b[0m\u001b[1;31m:\u001b[0m unexpected EOF while parsing\n"
     ]
    }
   ],
   "source": [
    "import ast,sys\n",
    "input_str = sys.stdin.read()\n",
    "input_tuple = ast.literal_eval(input_str)\n",
    "\n",
    "# Write your code here\n",
    "input_tuple = ('Monty Python', 'British', 1969)\n",
    "l1 = list(input_tuple)\n",
    "l1.append('Python')\n",
    "tuple_2 = tuple(l1)\n",
    "print(tuple_2)\n",
    "# Make sure to name the final tuple 'tuple_2'"
   ]
  },
  {
   "cell_type": "code",
   "execution_count": 22,
   "id": "53590564",
   "metadata": {},
   "outputs": [
    {
     "ename": "SyntaxError",
     "evalue": "unexpected EOF while parsing (<unknown>, line 0)",
     "output_type": "error",
     "traceback": [
      "Traceback \u001b[1;36m(most recent call last)\u001b[0m:\n",
      "  File \u001b[0;32m\"C:\\ProgramData\\Anaconda3\\lib\\site-packages\\IPython\\core\\interactiveshell.py\"\u001b[0m, line \u001b[0;32m3444\u001b[0m, in \u001b[0;35mrun_code\u001b[0m\n    exec(code_obj, self.user_global_ns, self.user_ns)\n",
      "  File \u001b[0;32m\"C:\\Users\\vanda\\AppData\\Local\\Temp/ipykernel_22092/1831682828.py\"\u001b[0m, line \u001b[0;32m3\u001b[0m, in \u001b[0;35m<module>\u001b[0m\n    input_tuple = ast.literal_eval(input_str)\n",
      "  File \u001b[0;32m\"C:\\ProgramData\\Anaconda3\\lib\\ast.py\"\u001b[0m, line \u001b[0;32m62\u001b[0m, in \u001b[0;35mliteral_eval\u001b[0m\n    node_or_string = parse(node_or_string, mode='eval')\n",
      "\u001b[1;36m  File \u001b[1;32m\"C:\\ProgramData\\Anaconda3\\lib\\ast.py\"\u001b[1;36m, line \u001b[1;32m50\u001b[1;36m, in \u001b[1;35mparse\u001b[1;36m\u001b[0m\n\u001b[1;33m    return compile(source, filename, mode, flags,\u001b[0m\n",
      "\u001b[1;36m  File \u001b[1;32m\"<unknown>\"\u001b[1;36m, line \u001b[1;32munknown\u001b[0m\n\u001b[1;33m    \u001b[0m\n\u001b[1;37m    ^\u001b[0m\n\u001b[1;31mSyntaxError\u001b[0m\u001b[1;31m:\u001b[0m unexpected EOF while parsing\n"
     ]
    }
   ],
   "source": [
    "import ast,sys\n",
    "input_str = sys.stdin.read()\n",
    "input_tuple = ast.literal_eval(input_str)\n",
    "\n",
    "# Write your code here\n",
    "l1 = list(input_tuple)\n",
    "l1.append('Python')\n",
    "tuple_2 = tuple(l1)\n",
    "print(tuple_2)\n",
    "# Make sure to name the final tuple 'tuple_2'"
   ]
  },
  {
   "cell_type": "code",
   "execution_count": 1,
   "id": "64bfa9a0",
   "metadata": {},
   "outputs": [
    {
     "data": {
      "text/plain": [
       "[7, 6, 5, 4, 'Test']"
      ]
     },
     "execution_count": 1,
     "metadata": {},
     "output_type": "execute_result"
    }
   ],
   "source": [
    "dct = {(1, 2): ['Test', 4, 5, 6, 7], 2: 100, 'V': 'Vandana'}\n",
    "dct[(1,2)][::-1]"
   ]
  },
  {
   "cell_type": "code",
   "execution_count": 3,
   "id": "bbe24fd4",
   "metadata": {},
   "outputs": [
    {
     "ename": "NameError",
     "evalue": "name 'dictionary_2' is not defined",
     "output_type": "error",
     "traceback": [
      "\u001b[1;31m---------------------------------------------------------------------------\u001b[0m",
      "\u001b[1;31mNameError\u001b[0m                                 Traceback (most recent call last)",
      "\u001b[1;32m~\\AppData\\Local\\Temp/ipykernel_3548/715155037.py\u001b[0m in \u001b[0;36m<module>\u001b[1;34m\u001b[0m\n\u001b[1;32m----> 1\u001b[1;33m \u001b[0mdictionary_2\u001b[0m\u001b[1;33m[\u001b[0m\u001b[1;33m(\u001b[0m\u001b[1;34m'EmpID'\u001b[0m\u001b[1;33m)\u001b[0m\u001b[1;33m]\u001b[0m\u001b[1;33m[\u001b[0m\u001b[1;33m:\u001b[0m\u001b[1;33m:\u001b[0m\u001b[1;33m-\u001b[0m\u001b[1;36m1\u001b[0m\u001b[1;33m]\u001b[0m\u001b[1;33m\u001b[0m\u001b[1;33m\u001b[0m\u001b[0m\n\u001b[0m\u001b[0;32m      2\u001b[0m \u001b[0mdictionary_2\u001b[0m\u001b[1;33m[\u001b[0m\u001b[1;34m'EmpID'\u001b[0m\u001b[1;33m]\u001b[0m \u001b[1;33m=\u001b[0m \u001b[1;33m{\u001b[0m\u001b[1;34m\"A\"\u001b[0m\u001b[1;33m:\u001b[0m\u001b[1;34m\"Amaan\"\u001b[0m\u001b[1;33m,\u001b[0m\u001b[1;34m\"V\"\u001b[0m\u001b[1;33m:\u001b[0m\u001b[1;34m\"Vikash\"\u001b[0m\u001b[1;33m,\u001b[0m\u001b[1;34m\"R\"\u001b[0m\u001b[1;33m:\u001b[0m\u001b[1;33m{\u001b[0m\u001b[1;34m\"Rajesh\"\u001b[0m\u001b[1;33m:\u001b[0m\u001b[1;33m[\u001b[0m\u001b[1;34m\"Raj\"\u001b[0m\u001b[1;33m,\u001b[0m\u001b[1;34m\"Rajeev\"\u001b[0m\u001b[1;33m]\u001b[0m\u001b[1;33m}\u001b[0m\u001b[1;33m}\u001b[0m\u001b[1;33m\u001b[0m\u001b[1;33m\u001b[0m\u001b[0m\n\u001b[0;32m      3\u001b[0m \u001b[0mdictionary_2\u001b[0m\u001b[1;33m\u001b[0m\u001b[1;33m\u001b[0m\u001b[0m\n",
      "\u001b[1;31mNameError\u001b[0m: name 'dictionary_2' is not defined"
     ]
    }
   ],
   "source": [
    "dictionary_2[('EmpID')][::-1]\n",
    "dictionary_2['EmpID'] = {\"A\":\"Amaan\",\"V\":\"Vikash\",\"R\":{\"Rajesh\":[\"Raj\",\"Rajeev\"]}}\n",
    "dictionary_2"
   ]
  },
  {
   "cell_type": "code",
   "execution_count": null,
   "id": "c360a036",
   "metadata": {},
   "outputs": [],
   "source": [
    "Create a list by picking an odd-index items from the first list and even index items from the second\n",
    "l1 = [3, 6, 9, 12, 15, 18, 21]\n",
    "l2 = [4, 8, 12, 16, 20, 24, 28]\n",
    "\n",
    "Printing Final third list\n",
    "[6, 12, 18, 4, 12, 20, 28]"
   ]
  },
  {
   "cell_type": "code",
   "execution_count": 6,
   "id": "b9e42d06",
   "metadata": {},
   "outputs": [
    {
     "name": "stdout",
     "output_type": "stream",
     "text": [
      "(11, 22, 33, 10, [22, 33, 44, 'X', 'X', 'X', 'X'], 10, 3, 4, 5, 8, 10, 11)\n"
     ]
    }
   ],
   "source": [
    "tuple_1 = (11,22,33,10,[22,33,44,55],10,3,4,5,8,10,11)\n",
    "lst = ['X','X','X','X']\n",
    "# (11,22,33,10,[22,33,44,['X','X','X','X']],10,3,4,5,8,10,11) -- First Ques\n",
    "# (11,22,33,10,[22,33,44,'X','X','X','X'],10,3,4,5,8,10,11) -- Second Ques\n",
    "tuple_1[4].pop()\n",
    "tuple_1[4].extend(lst)\n",
    "print(tuple_1)"
   ]
  },
  {
   "cell_type": "code",
   "execution_count": 4,
   "id": "8001e259",
   "metadata": {},
   "outputs": [
    {
     "ename": "NameError",
     "evalue": "name 'lst' is not defined",
     "output_type": "error",
     "traceback": [
      "\u001b[1;31m---------------------------------------------------------------------------\u001b[0m",
      "\u001b[1;31mNameError\u001b[0m                                 Traceback (most recent call last)",
      "\u001b[1;32m~\\AppData\\Local\\Temp/ipykernel_3548/3785147017.py\u001b[0m in \u001b[0;36m<module>\u001b[1;34m\u001b[0m\n\u001b[1;32m----> 1\u001b[1;33m \u001b[0mtuple_1\u001b[0m\u001b[1;33m[\u001b[0m\u001b[1;36m4\u001b[0m\u001b[1;33m]\u001b[0m\u001b[1;33m[\u001b[0m\u001b[1;36m3\u001b[0m\u001b[1;33m]\u001b[0m\u001b[1;33m=\u001b[0m\u001b[1;33m[\u001b[0m\u001b[0mlst\u001b[0m\u001b[1;33m]\u001b[0m\u001b[1;33m\u001b[0m\u001b[1;33m\u001b[0m\u001b[0m\n\u001b[0m\u001b[0;32m      2\u001b[0m \u001b[0mprint\u001b[0m\u001b[1;33m(\u001b[0m\u001b[0mtuple_1\u001b[0m\u001b[1;33m)\u001b[0m\u001b[1;33m\u001b[0m\u001b[1;33m\u001b[0m\u001b[0m\n",
      "\u001b[1;31mNameError\u001b[0m: name 'lst' is not defined"
     ]
    }
   ],
   "source": [
    "tuple_1[4].pop()\n",
    "tuple_1[4].extend(lst)\n",
    "print(tuple_1)"
   ]
  },
  {
   "cell_type": "code",
   "execution_count": 7,
   "id": "e7bcccc4",
   "metadata": {},
   "outputs": [
    {
     "ename": "SyntaxError",
     "evalue": "unmatched ')' (Temp/ipykernel_3548/1303152428.py, line 2)",
     "output_type": "error",
     "traceback": [
      "\u001b[1;36m  File \u001b[1;32m\"C:\\Users\\vanda\\AppData\\Local\\Temp/ipykernel_3548/1303152428.py\"\u001b[1;36m, line \u001b[1;32m2\u001b[0m\n\u001b[1;33m    string.findex('very',index('very')+1))\u001b[0m\n\u001b[1;37m                                         ^\u001b[0m\n\u001b[1;31mSyntaxError\u001b[0m\u001b[1;31m:\u001b[0m unmatched ')'\n"
     ]
    }
   ],
   "source": [
    "string = \"Python programming is very popular and very powerful.\"\n",
    "string.findex('very',index('very')+1))\n"
   ]
  },
  {
   "cell_type": "code",
   "execution_count": 8,
   "id": "00992858",
   "metadata": {
    "scrolled": true
   },
   "outputs": [
    {
     "name": "stdout",
     "output_type": "stream",
     "text": [
      "Object `startswith` not found.\n"
     ]
    }
   ],
   "source": [
    "string =\"\"\n",
    "string startswith?"
   ]
  },
  {
   "cell_type": "code",
   "execution_count": null,
   "id": "cace6d72",
   "metadata": {},
   "outputs": [],
   "source": [
    "Sample Input :\n",
    "\n",
    "A = [5, 1, 3, 4, 4, 5, 6, 7]\n",
    "\n",
    "B = [3, 3, 5, 5, 1 ,7 ,2]"
   ]
  },
  {
   "cell_type": "code",
   "execution_count": 21,
   "id": "c22cb6ac",
   "metadata": {},
   "outputs": [
    {
     "ename": "SyntaxError",
     "evalue": "unexpected EOF while parsing (<unknown>, line 0)",
     "output_type": "error",
     "traceback": [
      "Traceback \u001b[1;36m(most recent call last)\u001b[0m:\n",
      "  File \u001b[0;32m\"C:\\ProgramData\\Anaconda3\\lib\\site-packages\\IPython\\core\\interactiveshell.py\"\u001b[0m, line \u001b[0;32m3444\u001b[0m, in \u001b[0;35mrun_code\u001b[0m\n    exec(code_obj, self.user_global_ns, self.user_ns)\n",
      "  File \u001b[0;32m\"C:\\Users\\vanda\\AppData\\Local\\Temp/ipykernel_26464/3837331986.py\"\u001b[0m, line \u001b[0;32m3\u001b[0m, in \u001b[0;35m<module>\u001b[0m\n    input_list = ast.literal_eval(input_str)\n",
      "  File \u001b[0;32m\"C:\\ProgramData\\Anaconda3\\lib\\ast.py\"\u001b[0m, line \u001b[0;32m62\u001b[0m, in \u001b[0;35mliteral_eval\u001b[0m\n    node_or_string = parse(node_or_string, mode='eval')\n",
      "\u001b[1;36m  File \u001b[1;32m\"C:\\ProgramData\\Anaconda3\\lib\\ast.py\"\u001b[1;36m, line \u001b[1;32m50\u001b[1;36m, in \u001b[1;35mparse\u001b[1;36m\u001b[0m\n\u001b[1;33m    return compile(source, filename, mode, flags,\u001b[0m\n",
      "\u001b[1;36m  File \u001b[1;32m\"<unknown>\"\u001b[1;36m, line \u001b[1;32munknown\u001b[0m\n\u001b[1;33m    \u001b[0m\n\u001b[1;37m    ^\u001b[0m\n\u001b[1;31mSyntaxError\u001b[0m\u001b[1;31m:\u001b[0m unexpected EOF while parsing\n"
     ]
    }
   ],
   "source": [
    "import ast,sys\n",
    "input_str = sys.stdin.read()\n",
    "input_list = ast.literal_eval(input_str)\n",
    "list_1 = input_list[0]\n",
    "list_2 = input_list[1]\n",
    "\n",
    "#Type your answer here\n",
    "set1 = set(list_1) & set(list_2)\n",
    "answer = list(sorted(set1))\n",
    "print(answer)\n"
   ]
  },
  {
   "cell_type": "code",
   "execution_count": 16,
   "id": "8865cddc",
   "metadata": {},
   "outputs": [
    {
     "ename": "SyntaxError",
     "evalue": "unexpected EOF while parsing (<unknown>, line 0)",
     "output_type": "error",
     "traceback": [
      "Traceback \u001b[1;36m(most recent call last)\u001b[0m:\n",
      "  File \u001b[0;32m\"C:\\ProgramData\\Anaconda3\\lib\\site-packages\\IPython\\core\\interactiveshell.py\"\u001b[0m, line \u001b[0;32m3444\u001b[0m, in \u001b[0;35mrun_code\u001b[0m\n    exec(code_obj, self.user_global_ns, self.user_ns)\n",
      "  File \u001b[0;32m\"C:\\Users\\vanda\\AppData\\Local\\Temp/ipykernel_26464/3044609785.py\"\u001b[0m, line \u001b[0;32m3\u001b[0m, in \u001b[0;35m<module>\u001b[0m\n    input_list = ast.literal_eval(input_str)\n",
      "  File \u001b[0;32m\"C:\\ProgramData\\Anaconda3\\lib\\ast.py\"\u001b[0m, line \u001b[0;32m62\u001b[0m, in \u001b[0;35mliteral_eval\u001b[0m\n    node_or_string = parse(node_or_string, mode='eval')\n",
      "\u001b[1;36m  File \u001b[1;32m\"C:\\ProgramData\\Anaconda3\\lib\\ast.py\"\u001b[1;36m, line \u001b[1;32m50\u001b[1;36m, in \u001b[1;35mparse\u001b[1;36m\u001b[0m\n\u001b[1;33m    return compile(source, filename, mode, flags,\u001b[0m\n",
      "\u001b[1;36m  File \u001b[1;32m\"<unknown>\"\u001b[1;36m, line \u001b[1;32munknown\u001b[0m\n\u001b[1;33m    \u001b[0m\n\u001b[1;37m    ^\u001b[0m\n\u001b[1;31mSyntaxError\u001b[0m\u001b[1;31m:\u001b[0m unexpected EOF while parsing\n"
     ]
    }
   ],
   "source": [
    "import ast,sys\n",
    "input_str = sys.stdin.read()\n",
    "input_list = ast.literal_eval(input_str)\n",
    "list_1 = input_list[0]\n",
    "list_2 = input_list[1]\n",
    "\n",
    "print('list_1' & 'list_2')\n"
   ]
  },
  {
   "cell_type": "code",
   "execution_count": 1,
   "id": "d28ebe9e",
   "metadata": {},
   "outputs": [
    {
     "name": "stdout",
     "output_type": "stream",
     "text": [
      "4\n"
     ]
    }
   ],
   "source": [
    "nums = set([1,1,2,3,3,3,4])\n",
    "print(len(nums))"
   ]
  },
  {
   "cell_type": "code",
   "execution_count": 7,
   "id": "59c887e7",
   "metadata": {
    "scrolled": true
   },
   "outputs": [
    {
     "ename": "SyntaxError",
     "evalue": "unexpected EOF while parsing (<unknown>, line 0)",
     "output_type": "error",
     "traceback": [
      "Traceback \u001b[1;36m(most recent call last)\u001b[0m:\n",
      "  File \u001b[0;32m\"C:\\ProgramData\\Anaconda3\\lib\\site-packages\\IPython\\core\\interactiveshell.py\"\u001b[0m, line \u001b[0;32m3444\u001b[0m, in \u001b[0;35mrun_code\u001b[0m\n    exec(code_obj, self.user_global_ns, self.user_ns)\n",
      "  File \u001b[0;32m\"C:\\Users\\vanda\\AppData\\Local\\Temp/ipykernel_17592/828339525.py\"\u001b[0m, line \u001b[0;32m3\u001b[0m, in \u001b[0;35m<module>\u001b[0m\n    input_dict = ast.literal_eval(input_str)\n",
      "  File \u001b[0;32m\"C:\\ProgramData\\Anaconda3\\lib\\ast.py\"\u001b[0m, line \u001b[0;32m62\u001b[0m, in \u001b[0;35mliteral_eval\u001b[0m\n    node_or_string = parse(node_or_string, mode='eval')\n",
      "\u001b[1;36m  File \u001b[1;32m\"C:\\ProgramData\\Anaconda3\\lib\\ast.py\"\u001b[1;36m, line \u001b[1;32m50\u001b[1;36m, in \u001b[1;35mparse\u001b[1;36m\u001b[0m\n\u001b[1;33m    return compile(source, filename, mode, flags,\u001b[0m\n",
      "\u001b[1;36m  File \u001b[1;32m\"<unknown>\"\u001b[1;36m, line \u001b[1;32munknown\u001b[0m\n\u001b[1;33m    \u001b[0m\n\u001b[1;37m    ^\u001b[0m\n\u001b[1;31mSyntaxError\u001b[0m\u001b[1;31m:\u001b[0m unexpected EOF while parsing\n"
     ]
    }
   ],
   "source": [
    "import ast,sys\n",
    "input_str = sys.stdin.read()\n",
    "input_dict = ast.literal_eval(input_str)\n",
    "\n",
    "#Type you answer here\n",
    "Employee_list = list( input_dict[104])\n",
    "\n",
    "profession = Employee_list[2]\n",
    "\n",
    "\n",
    "print(profession)"
   ]
  },
  {
   "cell_type": "code",
   "execution_count": 11,
   "id": "9d9d6ea9",
   "metadata": {},
   "outputs": [
    {
     "ename": "SyntaxError",
     "evalue": "invalid syntax (Temp/ipykernel_17592/658412872.py, line 1)",
     "output_type": "error",
     "traceback": [
      "\u001b[1;36m  File \u001b[1;32m\"C:\\Users\\vanda\\AppData\\Local\\Temp/ipykernel_17592/658412872.py\"\u001b[1;36m, line \u001b[1;32m1\u001b[0m\n\u001b[1;33m    d = ('a':1, 'b':2)\u001b[0m\n\u001b[1;37m            ^\u001b[0m\n\u001b[1;31mSyntaxError\u001b[0m\u001b[1;31m:\u001b[0m invalid syntax\n"
     ]
    }
   ],
   "source": [
    "d = ('a':1, 'b':2)\n",
    "type(d)"
   ]
  },
  {
   "cell_type": "code",
   "execution_count": 14,
   "id": "c82d4437",
   "metadata": {
    "scrolled": true
   },
   "outputs": [
    {
     "ename": "SyntaxError",
     "evalue": "invalid syntax (Temp/ipykernel_17592/2337737238.py, line 7)",
     "output_type": "error",
     "traceback": [
      "\u001b[1;36m  File \u001b[1;32m\"C:\\Users\\vanda\\AppData\\Local\\Temp/ipykernel_17592/2337737238.py\"\u001b[1;36m, line \u001b[1;32m7\u001b[0m\n\u001b[1;33m    if 'Label' in input_dict\u001b[0m\n\u001b[1;37m                            ^\u001b[0m\n\u001b[1;31mSyntaxError\u001b[0m\u001b[1;31m:\u001b[0m invalid syntax\n"
     ]
    }
   ],
   "source": [
    "import ast,sys\n",
    "input_str = sys.stdin.read()\n",
    "input_dict = ast.literal_eval(input_str)\n",
    " \n",
    "\n",
    "# Type your answer here\n",
    "if 'Label' in input_dict\n",
    " print(Label)\n",
    " else answer = NA\n",
    "print(answer)"
   ]
  },
  {
   "cell_type": "code",
   "execution_count": null,
   "id": "c1535d0f",
   "metadata": {},
   "outputs": [],
   "source": [
    "From a Dictionary input_dict={'Name': 'Monty', 'Profession': 'Singer' }, get the value of a key ‘Label’ which is not a part of the dictionary, in such a way that Python doesn't hit an error. If the key does not exist in the dictionary, Python should return 'NA'.\n",
    "\n"
   ]
  },
  {
   "cell_type": "code",
   "execution_count": 16,
   "id": "0a71802a",
   "metadata": {},
   "outputs": [
    {
     "ename": "SyntaxError",
     "evalue": "unexpected EOF while parsing (<unknown>, line 0)",
     "output_type": "error",
     "traceback": [
      "Traceback \u001b[1;36m(most recent call last)\u001b[0m:\n",
      "  File \u001b[0;32m\"C:\\ProgramData\\Anaconda3\\lib\\site-packages\\IPython\\core\\interactiveshell.py\"\u001b[0m, line \u001b[0;32m3444\u001b[0m, in \u001b[0;35mrun_code\u001b[0m\n    exec(code_obj, self.user_global_ns, self.user_ns)\n",
      "  File \u001b[0;32m\"C:\\Users\\vanda\\AppData\\Local\\Temp/ipykernel_17592/1647623789.py\"\u001b[0m, line \u001b[0;32m3\u001b[0m, in \u001b[0;35m<module>\u001b[0m\n    input_dict = ast.literal_eval(input_str)\n",
      "  File \u001b[0;32m\"C:\\ProgramData\\Anaconda3\\lib\\ast.py\"\u001b[0m, line \u001b[0;32m62\u001b[0m, in \u001b[0;35mliteral_eval\u001b[0m\n    node_or_string = parse(node_or_string, mode='eval')\n",
      "\u001b[1;36m  File \u001b[1;32m\"C:\\ProgramData\\Anaconda3\\lib\\ast.py\"\u001b[1;36m, line \u001b[1;32m50\u001b[1;36m, in \u001b[1;35mparse\u001b[1;36m\u001b[0m\n\u001b[1;33m    return compile(source, filename, mode, flags,\u001b[0m\n",
      "\u001b[1;36m  File \u001b[1;32m\"<unknown>\"\u001b[1;36m, line \u001b[1;32munknown\u001b[0m\n\u001b[1;33m    \u001b[0m\n\u001b[1;37m    ^\u001b[0m\n\u001b[1;31mSyntaxError\u001b[0m\u001b[1;31m:\u001b[0m unexpected EOF while parsing\n"
     ]
    }
   ],
   "source": [
    "import ast,sys\n",
    "input_str = sys.stdin.read()\n",
    "input_dict = ast.literal_eval(input_str)\n",
    " \n",
    "\n",
    "# Type your answer here\n",
    "answer=input_dict.get('Label', 'NA')\n",
    "\n",
    "print(answer)"
   ]
  },
  {
   "cell_type": "code",
   "execution_count": 1,
   "id": "c0b11de7",
   "metadata": {
    "scrolled": true
   },
   "outputs": [
    {
     "ename": "SyntaxError",
     "evalue": "EOL while scanning string literal (Temp/ipykernel_4192/3607587172.py, line 1)",
     "output_type": "error",
     "traceback": [
      "\u001b[1;36m  File \u001b[1;32m\"C:\\Users\\vanda\\AppData\\Local\\Temp/ipykernel_4192/3607587172.py\"\u001b[1;36m, line \u001b[1;32m1\u001b[0m\n\u001b[1;33m    dict_1 = {\"Python'':40, 'R':45}\u001b[0m\n\u001b[1;37m                                   ^\u001b[0m\n\u001b[1;31mSyntaxError\u001b[0m\u001b[1;31m:\u001b[0m EOL while scanning string literal\n"
     ]
    }
   ],
   "source": [
    "dict_1 = {\"Python'':40, 'R':45}\n",
    "\n",
    "          "
   ]
  },
  {
   "cell_type": "code",
   "execution_count": 27,
   "id": "a1c9566b",
   "metadata": {},
   "outputs": [
    {
     "name": "stdout",
     "output_type": "stream",
     "text": [
      "['Python', 'R']\n"
     ]
    }
   ],
   "source": [
    "d = {'Python':40, 'R':45}\n",
    "print(list(d.keys()))"
   ]
  },
  {
   "cell_type": "code",
   "execution_count": 7,
   "id": "37d91512",
   "metadata": {
    "scrolled": true
   },
   "outputs": [
    {
     "ename": "SyntaxError",
     "evalue": "unexpected EOF while parsing (<unknown>, line 0)",
     "output_type": "error",
     "traceback": [
      "Traceback \u001b[1;36m(most recent call last)\u001b[0m:\n",
      "  File \u001b[0;32m\"C:\\ProgramData\\Anaconda3\\lib\\site-packages\\IPython\\core\\interactiveshell.py\"\u001b[0m, line \u001b[0;32m3444\u001b[0m, in \u001b[0;35mrun_code\u001b[0m\n    exec(code_obj, self.user_global_ns, self.user_ns)\n",
      "  File \u001b[0;32m\"C:\\Users\\vanda\\AppData\\Local\\Temp/ipykernel_4192/1445597316.py\"\u001b[0m, line \u001b[0;32m3\u001b[0m, in \u001b[0;35m<module>\u001b[0m\n    input_dict = ast.literal_eval(input_str)\n",
      "  File \u001b[0;32m\"C:\\ProgramData\\Anaconda3\\lib\\ast.py\"\u001b[0m, line \u001b[0;32m62\u001b[0m, in \u001b[0;35mliteral_eval\u001b[0m\n    node_or_string = parse(node_or_string, mode='eval')\n",
      "\u001b[1;36m  File \u001b[1;32m\"C:\\ProgramData\\Anaconda3\\lib\\ast.py\"\u001b[1;36m, line \u001b[1;32m50\u001b[1;36m, in \u001b[1;35mparse\u001b[1;36m\u001b[0m\n\u001b[1;33m    return compile(source, filename, mode, flags,\u001b[0m\n",
      "\u001b[1;36m  File \u001b[1;32m\"<unknown>\"\u001b[1;36m, line \u001b[1;32munknown\u001b[0m\n\u001b[1;33m    \u001b[0m\n\u001b[1;37m    ^\u001b[0m\n\u001b[1;31mSyntaxError\u001b[0m\u001b[1;31m:\u001b[0m unexpected EOF while parsing\n"
     ]
    }
   ],
   "source": [
    "import ast,sys\n",
    "input_str = sys.stdin.read()\n",
    "input_dict = ast.literal_eval(input_str)\n",
    "\n",
    "#type your answer here\n",
    "sorted_dic = sort(input_dict.items(), value = lambda v:k)\n",
    "print(sorted_dic)"
   ]
  },
  {
   "cell_type": "code",
   "execution_count": null,
   "id": "0c79da2f",
   "metadata": {},
   "outputs": [],
   "source": [
    "Description\n",
    "Create a SORTED list of all values from the dictionary input_dict = {'Jack Dorsey' : 'Twitter' , 'Tim Cook' : 'Apple','Jeff Bezos' : 'Amazon' ,'Mukesh Ambani' : 'RJIO'}"
   ]
  },
  {
   "cell_type": "code",
   "execution_count": 1,
   "id": "36ce8acd",
   "metadata": {},
   "outputs": [
    {
     "ename": "SyntaxError",
     "evalue": "unexpected EOF while parsing (<unknown>, line 0)",
     "output_type": "error",
     "traceback": [
      "Traceback \u001b[1;36m(most recent call last)\u001b[0m:\n",
      "  File \u001b[0;32m\"C:\\ProgramData\\Anaconda3\\lib\\site-packages\\IPython\\core\\interactiveshell.py\"\u001b[0m, line \u001b[0;32m3444\u001b[0m, in \u001b[0;35mrun_code\u001b[0m\n    exec(code_obj, self.user_global_ns, self.user_ns)\n",
      "  File \u001b[0;32m\"C:\\Users\\vanda\\AppData\\Local\\Temp/ipykernel_20840/3708503553.py\"\u001b[0m, line \u001b[0;32m3\u001b[0m, in \u001b[0;35m<module>\u001b[0m\n    input_dict = ast.literal_eval(input_str)\n",
      "  File \u001b[0;32m\"C:\\ProgramData\\Anaconda3\\lib\\ast.py\"\u001b[0m, line \u001b[0;32m62\u001b[0m, in \u001b[0;35mliteral_eval\u001b[0m\n    node_or_string = parse(node_or_string, mode='eval')\n",
      "\u001b[1;36m  File \u001b[1;32m\"C:\\ProgramData\\Anaconda3\\lib\\ast.py\"\u001b[1;36m, line \u001b[1;32m50\u001b[1;36m, in \u001b[1;35mparse\u001b[1;36m\u001b[0m\n\u001b[1;33m    return compile(source, filename, mode, flags,\u001b[0m\n",
      "\u001b[1;36m  File \u001b[1;32m\"<unknown>\"\u001b[1;36m, line \u001b[1;32munknown\u001b[0m\n\u001b[1;33m    \u001b[0m\n\u001b[1;37m    ^\u001b[0m\n\u001b[1;31mSyntaxError\u001b[0m\u001b[1;31m:\u001b[0m unexpected EOF while parsing\n"
     ]
    }
   ],
   "source": [
    "import ast,sys\n",
    "input_str = sys.stdin.read()\n",
    "input_dict = ast.literal_eval(input_str)\n",
    "\n",
    "#type your answer here\n",
    "value_list = input_dict.values()\n",
    "\n",
    "print(sorted(value_list))"
   ]
  },
  {
   "cell_type": "code",
   "execution_count": 2,
   "id": "5703138a",
   "metadata": {},
   "outputs": [
    {
     "ename": "SyntaxError",
     "evalue": "invalid syntax (Temp/ipykernel_20840/376820685.py, line 1)",
     "output_type": "error",
     "traceback": [
      "\u001b[1;36m  File \u001b[1;32m\"C:\\Users\\vanda\\AppData\\Local\\Temp/ipykernel_20840/376820685.py\"\u001b[1;36m, line \u001b[1;32m1\u001b[0m\n\u001b[1;33m    Question 1: Print a random integer between 100 and 135\u001b[0m\n\u001b[1;37m             ^\u001b[0m\n\u001b[1;31mSyntaxError\u001b[0m\u001b[1;31m:\u001b[0m invalid syntax\n"
     ]
    }
   ],
   "source": [
    "Question 1: Print a random integer between 100 and 135\n",
    "    # Import required libraries:\n",
    "\n",
    "# Print a random integer in the given range:"
   ]
  },
  {
   "cell_type": "code",
   "execution_count": null,
   "id": "81b400d2",
   "metadata": {},
   "outputs": [],
   "source": [
    "Increment list elements\n",
    "Description\n",
    "Given a list of strings, increment the value of the numeric strings by 'k’. \n",
    "\n",
    "\n",
    "\n",
    "Hint: The function isdigit() may be useful here.\n",
    "\n",
    "\n",
    "\n",
    "---------------------------------------------------------------------------------------------\n",
    "\n",
    "\n",
    "\n",
    "Input - A list in the first line and an integer in the second line\n",
    "\n",
    "Output - A list\n",
    "\n",
    "---------------------------------------------------------------------------------------------\n",
    "\n",
    "Sample Input :\n",
    "\n",
    "['Python', '123', 'Data']\n",
    "\n",
    "  4\n",
    "\n",
    "\n",
    "Sample Output : ['Python', '127', 'Data']\n",
    "\n",
    "\n",
    "\n",
    "---------------------------------------------------------------------------------------------\n",
    "\n",
    "Sample Input :\n",
    "\n",
    "['upGrad', '1991', 'Mumbai']\n",
    "\n",
    "  0\n",
    "\n",
    "\n",
    "\n",
    "Sample Output : ['upGrad', '1991', 'Mumbai']\n",
    "\n",
    "\n",
    "\n",
    "---------------------------------------------------------------------------------------------\n",
    "\n",
    "Sample Input :\n",
    "\n",
    "['Data Science', '100', '10']\n",
    "\n",
    "  10\n",
    "\n",
    "\n",
    "\n",
    "Sample Output : ['Data Science', '110', '20']\n",
    "\n",
    "import ast\n",
    "\n",
    "string = ast.literal_eval(input())\n",
    "k = input()\n",
    "L = []\n",
    "\n",
    "for i in string:\n",
    "    if i.isdigit():\n",
    "        i = str(int(i)+int(k))\n",
    "        L.append(i)\n",
    "    else:\n",
    "        L.append(i)\n",
    "print(L)"
   ]
  },
  {
   "cell_type": "code",
   "execution_count": null,
   "id": "6fcd1a65",
   "metadata": {},
   "outputs": [],
   "source": []
  },
  {
   "cell_type": "code",
   "execution_count": null,
   "id": "8523af0e",
   "metadata": {},
   "outputs": [],
   "source": []
  },
  {
   "cell_type": "code",
   "execution_count": null,
   "id": "f4499b69",
   "metadata": {},
   "outputs": [],
   "source": []
  },
  {
   "cell_type": "code",
   "execution_count": null,
   "id": "74c985b3",
   "metadata": {},
   "outputs": [],
   "source": []
  },
  {
   "cell_type": "code",
   "execution_count": null,
   "id": "c648b79e",
   "metadata": {},
   "outputs": [],
   "source": []
  },
  {
   "cell_type": "code",
   "execution_count": null,
   "id": "9eccff40",
   "metadata": {},
   "outputs": [],
   "source": []
  },
  {
   "cell_type": "code",
   "execution_count": null,
   "id": "a8f60348",
   "metadata": {},
   "outputs": [],
   "source": []
  },
  {
   "cell_type": "code",
   "execution_count": null,
   "id": "cf562f9d",
   "metadata": {},
   "outputs": [],
   "source": []
  },
  {
   "cell_type": "code",
   "execution_count": null,
   "id": "129f9269",
   "metadata": {},
   "outputs": [],
   "source": []
  },
  {
   "cell_type": "code",
   "execution_count": null,
   "id": "b1bd5de9",
   "metadata": {},
   "outputs": [],
   "source": []
  },
  {
   "cell_type": "code",
   "execution_count": null,
   "id": "08aa2b2a",
   "metadata": {},
   "outputs": [],
   "source": []
  },
  {
   "cell_type": "code",
   "execution_count": null,
   "id": "128ff57b",
   "metadata": {},
   "outputs": [],
   "source": []
  },
  {
   "cell_type": "code",
   "execution_count": null,
   "id": "fc86b6d9",
   "metadata": {},
   "outputs": [],
   "source": []
  },
  {
   "cell_type": "code",
   "execution_count": null,
   "id": "94f51497",
   "metadata": {},
   "outputs": [],
   "source": []
  },
  {
   "cell_type": "code",
   "execution_count": null,
   "id": "d4936b6d",
   "metadata": {},
   "outputs": [],
   "source": []
  },
  {
   "cell_type": "code",
   "execution_count": null,
   "id": "402e47ed",
   "metadata": {},
   "outputs": [],
   "source": []
  },
  {
   "cell_type": "code",
   "execution_count": null,
   "id": "d23067e1",
   "metadata": {},
   "outputs": [],
   "source": []
  },
  {
   "cell_type": "code",
   "execution_count": null,
   "id": "8e7d04fc",
   "metadata": {},
   "outputs": [],
   "source": []
  },
  {
   "cell_type": "code",
   "execution_count": null,
   "id": "2025d79f",
   "metadata": {},
   "outputs": [],
   "source": []
  },
  {
   "cell_type": "code",
   "execution_count": null,
   "id": "9ae6d093",
   "metadata": {},
   "outputs": [],
   "source": []
  },
  {
   "cell_type": "code",
   "execution_count": null,
   "id": "fb02ef0d",
   "metadata": {},
   "outputs": [],
   "source": []
  },
  {
   "cell_type": "code",
   "execution_count": null,
   "id": "c58f4cda",
   "metadata": {},
   "outputs": [],
   "source": []
  },
  {
   "cell_type": "code",
   "execution_count": null,
   "id": "ff55c430",
   "metadata": {},
   "outputs": [],
   "source": []
  },
  {
   "cell_type": "code",
   "execution_count": null,
   "id": "48438a24",
   "metadata": {},
   "outputs": [],
   "source": [
    "substring with maximum uppercase characters\n",
    "Description\n",
    "Given a string, write a Python program to find the largest substring of uppercase characters and print the length of that substring. Check the sample inputs and outputs for a better understanding.\n",
    "\n",
    "\n",
    "\n",
    "---------------------------------------------------------------------------------------------------\n",
    "\n",
    "Input - String\n",
    "\n",
    "Output - String\n",
    "\n",
    "---------------------------------------------------------------------------------------------------\n",
    "\n",
    "\n",
    "\n",
    "Sample Input - I lovE PRogrAMMING\n",
    "\n",
    "Sample Output - 6\n",
    "\n",
    "\n",
    "\n",
    "Explanation - AMMING is the largest substring with all characters in uppercase continuously \n",
    "\n",
    "\n",
    "\n",
    "-----------------------------------------------------------------------------------------------------\n",
    "\n",
    "Sample Input - MuMbaI is in MAHArashTRA\n",
    "\n",
    "Sample Output - 4\n",
    "\n",
    "\n",
    "\n",
    "Explanation - MAHA is the largest substring with all characters in uppercase continuously.\n",
    "\n",
    "\n",
    "\n",
    "---------------------------------------------------------------------------------------------------\n",
    "\n",
    "Sample Input - India WOn the WOrLD CUP\n",
    "\n",
    "Sample Output - 3\n",
    "\n",
    "\n",
    "\n",
    "Explanation - CUP is the largest substring with all characters in uppercase continuously.\n",
    "\n",
    "\n",
    "\n",
    "input_str = input()\n",
    "upper = 0\n",
    "max_upper = 0\n",
    "\n",
    "for i in range(len(input_str)):\n",
    "    if input_str[i].isupper():\n",
    "        upper += 1\n",
    "    else:\n",
    "        if max_upper <= upper:\n",
    "            max_upper = upper\n",
    "            upper = 0\n",
    "\n",
    "if max_upper > upper:\n",
    "    print(str(max_upper))\n",
    "else:\n",
    "    print(str(upper))"
   ]
  },
  {
   "cell_type": "code",
   "execution_count": null,
   "id": "b7c2b080",
   "metadata": {},
   "outputs": [],
   "source": [
    "Sorting list of tuples\n",
    "Description\n",
    "A class of students attempt an exam in two parts: ‘Aptitude’ and ‘Physics'. The marks of all the students are stored as a list of tuples, and each student’s marks (in Aptitude and Physics) are stored in each tuple. Your task is to write a Python program to sort the list of tuples in decreasing order of the Physics scores of the students.\n",
    "\n",
    "\n",
    "\n",
    "Note - Marks of both the subjects are ranged between 1-100, and no two students have scored the same marks in Physics.\n",
    "\n",
    "\n",
    "\n",
    "---------------------------------------------------------------------------------------------------\n",
    "\n",
    "Input - List of tuples\n",
    "\n",
    "Output - List of tuples\n",
    "\n",
    "\n",
    "\n",
    "---------------------------------------------------------------------------------------------------\n",
    "\n",
    "\n",
    "\n",
    "Sample Input - [(45,77), (88,87), (67,98), (33,31)]\n",
    "\n",
    "\n",
    "\n",
    "In (45,77), which is the first element in the list, 45 and 77 are the scores of a student in aptitude and physics respectively.\n",
    "\n",
    "\n",
    "\n",
    "Sample Output - [ (67,98), (88,87), (45,77),(33,31)]\n",
    "\n",
    "\n",
    "\n",
    "---------------------------------------------------------------------------------------------------\n",
    "\n",
    "\n",
    "\n",
    "Sample Input - [(45,23), (45,88), (45,98), (45,44)]\n",
    "\n",
    "\n",
    "\n",
    "Sample Output - [ (45,98), (45,88), (45,44),(45,23)]\n",
    "\n",
    "\n",
    "\n",
    "---------------------------------------------------------------------------------------------------\n",
    "\n",
    "\n",
    "\n",
    "Sample Input - [(55,77), (34,90), (67,100), (90,0)]\n",
    "\n",
    "\n",
    "\n",
    "Sample Output - [ (67,100), (34,90), (55,77),(90,0)]\n",
    "\n",
    "\n",
    "import ast\n",
    "input_tup = ast.literal_eval(input())\n",
    "sorted_tup = sorted(input_tup,reverse=True,key= lambda x: x[1])\n",
    "print(sorted_tup)\n"
   ]
  },
  {
   "cell_type": "code",
   "execution_count": null,
   "id": "28d73ecb",
   "metadata": {},
   "outputs": [],
   "source": [
    "Divisibility check\n",
    "Description\n",
    "Given an integer ‘n’, your task is to write a Python code to find whether ‘n’ is divisible by all its digits or not. If they divide the number, then the number ‘n’ is a happy number. Otherwise, it is a sad number.\n",
    "\n",
    "The number ‘n’ may be provided with commas. At first, you have to clean the number (by removing the commas involved) and then check whether the number is happy or sad.\n",
    "\n",
    "\n",
    "---------------------------------------------------------------------------------------------------\n",
    "\n",
    "\n",
    "\n",
    "Input - String\n",
    "\n",
    "Output - String\n",
    "\n",
    "\n",
    "\n",
    "---------------------------------------------------------------------------------------------------\n",
    "\n",
    "Sample Input - 2,128\n",
    "\n",
    "Sample Output - Happy Number\n",
    "\n",
    "\n",
    "\n",
    "---------------------------------------------------------------------------------------------------\n",
    "\n",
    "\n",
    "\n",
    "Sample Input - 256\n",
    "\n",
    "Sample Output - Sad Number\n",
    "\n",
    "\n",
    "\n",
    "---------------------------------------------------------------------------------------------------\n",
    "\n",
    "\n",
    "\n",
    "Sample Input - 1124\n",
    "\n",
    "Sample Output - Happy Number\n",
    "\n",
    "\n",
    "input_str = input()\n",
    "cleanup_list = [x for x in input_str if x.isalnum()]\n",
    "cleanup_str = ''.join(cleanup_list)\n",
    "flag = False\n",
    "for i in cleanup_str:\n",
    "    if int(cleanup_str) % int(i) != 0:\n",
    "        print('Sad Number')\n",
    "        flag = True\n",
    "        break\n",
    "if flag == False:\n",
    "    print('Happy Number')"
   ]
  },
  {
   "cell_type": "code",
   "execution_count": null,
   "id": "206e7637",
   "metadata": {},
   "outputs": [],
   "source": [
    "Updating the dictionary keys\n",
    "Description\n",
    "You are provided with a dictionary containing the names of different football clubs as keys and the name of the main player of the corresponding team as values. When the main player of a team retires, one of their teammates steps up to fill in their role as the main player.\n",
    "\n",
    "\n",
    "You’re also provided with a list which contains the names of the football clubs for which the current main players are retiring and the names of the corresponding new main player. Your task is to update the values in the original dictionary with the names of the new main players.\n",
    "\n",
    "\n",
    "\n",
    "------------------------------------------------------------------------------------------------------\n",
    "\n",
    "\n",
    "\n",
    "Input - The input consists of a dictionary with different football clubs' names and their main player. In the next line, you will be provided with a list of the new players who have taken up the main roles.\n",
    "\n",
    "\n",
    "\n",
    "Output - Dictionary\n",
    "\n",
    "\n",
    "\n",
    "---------------------------------------------------------------------------------------------------\n",
    "\n",
    "\n",
    "\n",
    "Sample Input :\n",
    "\n",
    "{Barcelona:’Messi’ , ‘Real Madrid’: ‘Benzema’, ‘PSG’: ‘Neymar’ }\n",
    "\n",
    "[[‘Barcelona’, ‘Griezmann’], [‘PSG’, ‘Ramos’]]\n",
    "\n",
    "\n",
    "\n",
    "Sample Output: {Barcelona:‘Griezmann’, ‘Real Madrid’: ‘Benzema’, ‘PSG’: ‘Ramos’}\n",
    "\n",
    "\n",
    "\n",
    "---------------------------------------------------------------------------------------------------\n",
    "\n",
    "\n",
    "\n",
    "Sample Input:\n",
    "\n",
    "{Liverpool:’A’, ‘Real Madrid’: ‘B’, ‘Chelsea’: ‘C’ }\n",
    "\n",
    "[[Liverpool, ‘R’]]\n",
    "\n",
    "\n",
    "\n",
    "Sample Output: {Liverpool:’R’, ‘Real Madrid’: ‘B’, ‘Chelsea’: ‘C’ }\n",
    "\n",
    "\n",
    "\n",
    "\n",
    "\n",
    "---------------------------------------------------------------------------------------------------\n",
    "\n",
    "\n",
    "\n",
    "Sample Input :\n",
    "\n",
    " {Atletico Madrid : ’D’ , ‘Juventus’: ‘B’, ‘Chelsea’: ‘C’ }\n",
    "\n",
    "[[‘Juventus’, ‘G’], [‘Chelsea’, ‘H’]]\n",
    "\n",
    "\n",
    "\n",
    "Sample Output: {Atletico Madrid : ’D’, ‘Juventus’: ‘G’, ‘Chelsea’: ‘H’ }\n",
    "    \n",
    "    \n",
    "    \n",
    "import ast\n",
    "input_dict = ast.literal_eval(input())\n",
    "input_list = ast.literal_eval(input())\n",
    "\n",
    "for key,value in input_dict.items():\n",
    "    for element in input_list:\n",
    "        if element[0] == key:\n",
    "            input_dict[key] = element[1]\n",
    "        else:\n",
    "            pass\n",
    "print(input_dict)    "
   ]
  },
  {
   "cell_type": "code",
   "execution_count": null,
   "id": "414a240c",
   "metadata": {},
   "outputs": [],
   "source": [
    "Merge dictionaries\n",
    "Description\n",
    "Write a python code to merge two dictionaries into a single dictionary.\n",
    "\n",
    "\n",
    "\n",
    "--------------------------------------------------------------------------------------------------\n",
    "\n",
    "\n",
    "\n",
    "Input: Two dictionaries, one in each line\n",
    "\n",
    "\n",
    "\n",
    "Output: A Dictionary\n",
    "\n",
    "\n",
    "\n",
    "--------------------------------------------------------------------------------------------------\n",
    "\n",
    "\n",
    "\n",
    "Sample Input :\n",
    "\n",
    "{'a': 10, 'b': 8}\n",
    "\n",
    "{'d': 6, 'c': 4}\n",
    "\n",
    "\n",
    "\n",
    "Sample Output : {'c': 4, 'a': 10, 'b': 8, 'd': 6}\n",
    "\n",
    "\n",
    "\n",
    "--------------------------------------------------------------------------------------------------\n",
    "\n",
    "\n",
    "\n",
    "Sample Input :\n",
    "\n",
    "{'a': 110, 'b': 88}\n",
    "\n",
    "{'d': 62, 'c': 44}\n",
    "\n",
    "\n",
    "\n",
    "Sample Output : {'a': 110, 'b': 88, 'd': 62, 'c': 44}\n",
    "\n",
    "import ast\n",
    "\n",
    "dict1 = ast.literal_eval(input())\n",
    "dict2 = ast.literal_eval(input())\n",
    "\n",
    "dict1.update(dict2)\n",
    "print(dict1)"
   ]
  },
  {
   "cell_type": "code",
   "execution_count": null,
   "id": "28185bad",
   "metadata": {},
   "outputs": [],
   "source": [
    "List average\n",
    "Description\n",
    "Suppose you are working as a Marketing Lead in a company and you want to recruit new employees in your team (which already consists of 10 members) to carry out the company’s major project. You select the employees based on five parameters: A, B, C, D and E. The value of each parameter is represented on a scale of 1 to 10. The present average value of these parameters for your team is given to you in a list (in the same order). You recruit a person only if their scores do not reduce the average score of more than two parameters of your team. If they are recruited, print the output as ‘Selected’. If not, print the output as ‘Rejected’.\n",
    "\n",
    "\n",
    "\n",
    "--------------------------------------------------------------------------------------------------\n",
    "\n",
    "\n",
    "\n",
    "Input - Two lists, where the first list is the average scores of the team in the five parameters, and the second list is the scores of the new employee in all the five parameters. The parameter order is the same for both the lists, which is A, B, C, D and E.\n",
    "\n",
    "\n",
    "\n",
    "Output - String\n",
    "\n",
    "\n",
    "\n",
    "--------------------------------------------------------------------------------------------------\n",
    "\n",
    "\n",
    "\n",
    "Sample Input - [‘8’, ‘4’, ‘6’, ‘9’, ‘7’]\n",
    "\n",
    "  [‘1’, ‘1.1’, ‘1.2’, ‘1.2’, ‘2.3’]\n",
    "\n",
    "\n",
    "\n",
    "\n",
    "Sample Output - Rejected\n",
    "\n",
    "\n",
    "\n",
    "--------------------------------------------------------------------------------------------------\n",
    "\n",
    "\n",
    "\n",
    "Sample Input - [‘10’, ‘5’, ‘6’, ‘9’, ‘7’]\n",
    "\n",
    "  [‘10’, ‘ 9.8’, ‘7.2’, ‘1.66’, ‘4.3’]\n",
    "\n",
    "\n",
    "\n",
    "\n",
    "Sample Output - Selected\n",
    "\n",
    "\n",
    "\n",
    "--------------------------------------------------------------------------------------------------\n",
    "\n",
    "\n",
    "\n",
    "Sample Input - [‘8’, ‘5.66’, ‘6.5’, ‘10’, ‘10’]\n",
    "\n",
    "  [‘7’, ‘ 10’, ‘6’, ‘7’, ‘9’]\n",
    "\n",
    "\n",
    "\n",
    "\n",
    "Sample Output - Rejected\n",
    "\n",
    "#Take input from here\n",
    "\n",
    "#Write the code here\n",
    "import ast\n",
    "employee_list = ast.literal_eval(input())\n",
    "recruter_list = ast.literal_eval(input())\n",
    "\n",
    "count = 0\n",
    "for employee,recruter in zip(employee_list,recruter_list):\n",
    "    if float(recruter) > float(employee):\n",
    "        count += 1 \n",
    "\n",
    "if count >= 2:\n",
    "    print('Selected')\n",
    "else:\n",
    "    print(\"Rejected\")"
   ]
  },
  {
   "cell_type": "code",
   "execution_count": null,
   "id": "a5de7bd0",
   "metadata": {},
   "outputs": [],
   "source": [
    "import ast,sys\n",
    "input_list = sys.stdin.read()\n",
    "variable = ast.literal_eval(input_list)\n",
    "\n",
    " \n",
    "\n",
    "the \"sys.stdin.read()\" read the input from the \"input tab\" in upgrad console.\n",
    "Then we enter this input into \"ast.literal eval\"; if the input is a list, dictionary, sets, or tuple, then \"ast.literal eval(input list)\" takes the input exactly as it is, as it appears on the upgrad console's input tab.\n",
    " \n",
    "\n",
    "You can also directly take input in upgrad consolel without using \"sys\" like this:\n",
    "\n",
    "import ast\n",
    "\n",
    "input_list = ast.literal_eval(input())\n",
    "\n",
    " \n",
    "\n",
    "For single string only u can use this:\n",
    "\n",
    "string = input()\n",
    "\n",
    " \n",
    "\n",
    "For  integer value only u can use this:\n",
    "\n",
    "inp = int(input())\n",
    "\n",
    " \n",
    "\n",
    "If any issue, don't hesitate to ask me okay : )"
   ]
  },
  {
   "cell_type": "code",
   "execution_count": null,
   "id": "99924982",
   "metadata": {},
   "outputs": [],
   "source": [
    "String manipulation\n",
    "Description\n",
    "Write a program that takes a string as the input and does the following:\n",
    "\n",
    "    -Removes the numbers, special characters\n",
    "\n",
    "    -Converts uppercase letters to lowercase letters, and vice versa \n",
    "\n",
    "    \n",
    "\n",
    "----------------------------------------------------------------------\n",
    "\n",
    "Input:\n",
    "\n",
    "A string \n",
    "\n",
    "\n",
    "\n",
    "Output:\n",
    "\n",
    "A string with numbers, special characters removed, upper and lower cases swapped\n",
    "\n",
    "\n",
    "\n",
    "----------------------------------------------------------------------\n",
    "\n",
    "Sample input:\n",
    "\n",
    "Programming1234\n",
    "\n",
    "\n",
    "\n",
    "Sample output:\n",
    "\n",
    "pROGRAMMING\n",
    "\n",
    "\n",
    "\n",
    "\n",
    "\n",
    "----------------------------------------------------------------------\n",
    "\n",
    " Sample input:\n",
    "\n",
    " Programming is 100% fun\n",
    "\n",
    "\n",
    "\n",
    "\n",
    "\n",
    "Sample output:\n",
    "\n",
    "pROGRAMMINGISFUN\n",
    "\n",
    "Execution Time Limit\n",
    "\n",
    "\n",
    "#Take input\n",
    "input_string=input()\n",
    "\n",
    "#write your code here\n",
    "\n",
    "s = input_string.swapcase()\n",
    "L = list(s)\n",
    "L1 = []\n",
    "\n",
    "for i in L:\n",
    "    if i.isalpha():\n",
    "        L1.append(i)\n",
    "    else:\n",
    "        pass\n",
    "        \n",
    "print(''.join(L1))"
   ]
  },
  {
   "cell_type": "code",
   "execution_count": null,
   "id": "03abb7f1",
   "metadata": {},
   "outputs": [],
   "source": []
  },
  {
   "cell_type": "code",
   "execution_count": null,
   "id": "0a3c3780",
   "metadata": {},
   "outputs": [],
   "source": []
  },
  {
   "cell_type": "code",
   "execution_count": null,
   "id": "d8f6adcd",
   "metadata": {},
   "outputs": [],
   "source": []
  },
  {
   "cell_type": "code",
   "execution_count": null,
   "id": "08b04a98",
   "metadata": {},
   "outputs": [],
   "source": []
  }
 ],
 "metadata": {
  "kernelspec": {
   "display_name": "Python 3 (ipykernel)",
   "language": "python",
   "name": "python3"
  },
  "language_info": {
   "codemirror_mode": {
    "name": "ipython",
    "version": 3
   },
   "file_extension": ".py",
   "mimetype": "text/x-python",
   "name": "python",
   "nbconvert_exporter": "python",
   "pygments_lexer": "ipython3",
   "version": "3.9.7"
  }
 },
 "nbformat": 4,
 "nbformat_minor": 5
}
